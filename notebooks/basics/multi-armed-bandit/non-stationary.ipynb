{
 "cells": [
  {
   "cell_type": "markdown",
   "id": "574e02d6-93c7-47bc-8b57-31cd9d57d302",
   "metadata": {},
   "source": [
    "# Multi-armed bandits"
   ]
  },
  {
   "cell_type": "markdown",
   "id": "8fafa442-4329-4faf-b77e-b84282d2a28f",
   "metadata": {},
   "source": [
    "##### Imports"
   ]
  },
  {
   "cell_type": "code",
   "execution_count": 1,
   "id": "f21a69a3-f3c0-45d0-8a24-884555d330d0",
   "metadata": {},
   "outputs": [],
   "source": [
    "import copy\n",
    "import random\n",
    "\n",
    "import numpy as np\n",
    "from kilroyplot.plot import plt\n",
    "from tqdm import tqdm"
   ]
  },
  {
   "cell_type": "markdown",
   "id": "518af109-d57d-4da1-ba43-e5dbdb9d14ab",
   "metadata": {},
   "source": [
    "##### Utilities"
   ]
  },
  {
   "cell_type": "code",
   "execution_count": 2,
   "id": "99f1816a-0883-4bce-9300-55bdea3777e8",
   "metadata": {},
   "outputs": [],
   "source": [
    "class Bandit:\n",
    "    \"\"\"Represents one multi-armed bandit that samples rewards from normal distribution.\"\"\"\n",
    "\n",
    "    def __init__(self, mean, std):\n",
    "        self.mean = mean\n",
    "        self.std = std\n",
    "\n",
    "    def reward(self):\n",
    "        \"\"\"Sample single reward.\"\"\"\n",
    "        return np.random.normal(self.mean, self.std)"
   ]
  },
  {
   "cell_type": "code",
   "execution_count": 3,
   "id": "75c10878-6a44-4922-8ab3-0eedd70922a6",
   "metadata": {},
   "outputs": [],
   "source": [
    "from abc import ABC, abstractmethod\n",
    "\n",
    "\n",
    "class Agent:\n",
    "    \"\"\"Represents an agent that can estimate action values and pick actions.\"\"\"\n",
    "\n",
    "    def __init__(self, estimator, picker):\n",
    "        self.estimator = estimator\n",
    "        self.picker = picker\n",
    "\n",
    "    def estimate(self):\n",
    "        \"\"\"Estimate action values.\"\"\"\n",
    "        return self.estimator.estimate()\n",
    "\n",
    "    def pick(self, t):\n",
    "        \"\"\"Pick an action.\"\"\"\n",
    "        return self.picker.pick(t, self.estimate())\n",
    "\n",
    "    def on_reward(self, action, reward):\n",
    "        \"\"\"Reward callback.\"\"\"\n",
    "        self.estimator.on_reward(action, reward)\n",
    "\n",
    "\n",
    "class Estimator(ABC):\n",
    "    \"\"\"Estimates action values using specific method.\"\"\"\n",
    "\n",
    "    def __init__(self, n_actions):\n",
    "        self.n_actions = n_actions\n",
    "\n",
    "    @abstractmethod\n",
    "    def estimate(self):\n",
    "        pass\n",
    "\n",
    "    @abstractmethod\n",
    "    def on_reward(self, action, reward):\n",
    "        pass\n",
    "\n",
    "\n",
    "class WeightedAveragingEstimator(Estimator, ABC):\n",
    "    \"\"\"Estimates action values using weighted averaging.\"\"\"\n",
    "\n",
    "    def __init__(self, n_actions, default=0):\n",
    "        super().__init__(n_actions)\n",
    "        self.past_rewards = [\n",
    "            {\"value\": 0, \"n_times\": 0} for _ in range(n_actions)\n",
    "        ]\n",
    "        self.default = default\n",
    "\n",
    "    def estimate(self):\n",
    "        return [\n",
    "            rewards[\"value\"] if rewards[\"n_times\"] else self.default\n",
    "            for rewards in self.past_rewards\n",
    "        ]\n",
    "\n",
    "    def on_reward(self, action, reward):\n",
    "        reward_agg = self.past_rewards[action]\n",
    "        reward_agg[\"n_times\"] += 1\n",
    "        reward_agg[\"value\"] += self.step_size(reward_agg[\"n_times\"]) * (\n",
    "            reward - reward_agg[\"value\"]\n",
    "        )\n",
    "\n",
    "    @abstractmethod\n",
    "    def step_size(self, n):\n",
    "        pass\n",
    "\n",
    "\n",
    "class AveragingEstimator(WeightedAveragingEstimator):\n",
    "    \"\"\"Estimates action values using arithmetic mean.\"\"\"\n",
    "\n",
    "    def step_size(self, n):\n",
    "        return 1.0 / n\n",
    "\n",
    "\n",
    "class ExponentialWeightedAveragingEstimator(WeightedAveragingEstimator):\n",
    "    \"\"\"Estimates action values using exponentially-decaying average.\"\"\"\n",
    "\n",
    "    def __init__(self, n_actions, alpha, default=0):\n",
    "        super().__init__(n_actions, default)\n",
    "        self.alpha = alpha\n",
    "\n",
    "    def step_size(self, n):\n",
    "        return self.alpha\n",
    "\n",
    "\n",
    "class Picker(ABC):\n",
    "    \"\"\"Picks an action using specific method given action value estimates.\"\"\"\n",
    "\n",
    "    def __init__(self, n_actions):\n",
    "        self.n_actions = n_actions\n",
    "\n",
    "    @abstractmethod\n",
    "    def pick(self, t, values):\n",
    "        pass\n",
    "\n",
    "\n",
    "class EpsilonGreedyPicker(Picker):\n",
    "    \"\"\"Picks the best action or, with epsilon probability, random action.\"\"\"\n",
    "\n",
    "    def __init__(self, n_actions, epsilon):\n",
    "        super().__init__(n_actions)\n",
    "        self.epsilon = epsilon\n",
    "\n",
    "    def pick(self, t, values):\n",
    "        if random.random() < self.epsilon:\n",
    "            return np.random.randint(self.n_actions)\n",
    "        maximum = np.max(values)\n",
    "        argmaxes = np.argwhere(values == maximum).flatten()\n",
    "        return np.random.choice(argmaxes)\n",
    "\n",
    "\n",
    "class GreedyPicker(EpsilonGreedyPicker):\n",
    "    \"\"\"Always picks the best action.\"\"\"\n",
    "\n",
    "    def __init__(self, n_actions):\n",
    "        super().__init__(n_actions, 0)\n",
    "\n",
    "\n",
    "class UpperConfidenceBoundPicker(Picker):\n",
    "    \"\"\"Picks action using upper-confidence bound.\"\"\"\n",
    "\n",
    "    def __init__(self, n_actions, c, alpha):\n",
    "        super().__init__(n_actions)\n",
    "        self.c = c\n",
    "        self.alpha = alpha\n",
    "        self.n_picked = [0] * n_actions\n",
    "        self.last_picked = [0] * n_actions\n",
    "\n",
    "    def pick(self, t, values):\n",
    "        values = [\n",
    "            value\n",
    "            + self.c\n",
    "            * np.sqrt(np.log(sum(self.n_picked) + 1) / (1 + self.n_picked[i]))\n",
    "            for i, value in enumerate(values)\n",
    "        ]\n",
    "        maximum = np.max(values)\n",
    "        argmaxes = np.argwhere(values == maximum).flatten()\n",
    "        picked = np.random.choice(argmaxes)\n",
    "        self.n_picked[picked] = (\n",
    "            np.power(self.alpha, t - self.last_picked[picked])\n",
    "            * self.n_picked[picked]\n",
    "            + 1\n",
    "        )\n",
    "        self.last_picked[picked] = t\n",
    "        return picked"
   ]
  },
  {
   "cell_type": "markdown",
   "id": "84ca6a74-42f1-4d08-a0a5-d56e3df9c6e6",
   "metadata": {},
   "source": [
    "## Experiments"
   ]
  },
  {
   "cell_type": "markdown",
   "id": "6b138161-c72c-4958-af13-bfb7daff9e27",
   "metadata": {},
   "source": [
    "Runs multiple experiments with $n$ random bandits using all agents. Agents should update their estimates and get better with time.\n",
    "\n",
    "To make the problem non-stationary, at some step means of each bandit distribution will be mirrored by the mean of the distribution of the bandit that is considered the best at that step.\n",
    "\n",
    "Average rewards in all experiments at every step are saved to be analyzed later."
   ]
  },
  {
   "cell_type": "code",
   "execution_count": 4,
   "id": "b7144219-5507-46ba-9dfe-9385635f2914",
   "metadata": {},
   "outputs": [],
   "source": [
    "n_bandits = 10"
   ]
  },
  {
   "cell_type": "code",
   "execution_count": 5,
   "id": "f89ddb5e-bdbd-4c43-a2e6-69ba2d2a445e",
   "metadata": {},
   "outputs": [],
   "source": [
    "reference_agents = {\n",
    "    \"greedy, average\": Agent(\n",
    "        AveragingEstimator(n_bandits), GreedyPicker(n_bandits)\n",
    "    ),\n",
    "    \"eps-greedy, exponential average\": Agent(\n",
    "        ExponentialWeightedAveragingEstimator(n_bandits, 0.5),\n",
    "        EpsilonGreedyPicker(n_bandits, 0.1),\n",
    "    ),\n",
    "}"
   ]
  },
  {
   "cell_type": "code",
   "execution_count": 6,
   "id": "5a6558cd-9536-4200-85b1-b01d3368bb13",
   "metadata": {},
   "outputs": [],
   "source": [
    "n_problems = 2000\n",
    "steps = 1000"
   ]
  },
  {
   "cell_type": "code",
   "execution_count": 7,
   "id": "e2494ee5-fa67-4d2b-855f-17d71a47d8f1",
   "metadata": {
    "tags": []
   },
   "outputs": [
    {
     "name": "stderr",
     "output_type": "stream",
     "text": [
      "100%|██████████| 2000/2000 [01:34<00:00, 21.19it/s]\n"
     ]
    }
   ],
   "source": [
    "rewards_agg = {name: [] for name in reference_agents}\n",
    "for _ in tqdm(range(n_problems)):\n",
    "    reference_bandits = [\n",
    "        Bandit(mean, 1) for mean in np.random.normal(size=n_bandits)\n",
    "    ]\n",
    "    agents = {\n",
    "        name: copy.deepcopy(agent) for name, agent in reference_agents.items()\n",
    "    }\n",
    "    rewards = {name: [] for name in agents}\n",
    "    for name, agent in agents.items():\n",
    "        bandits = copy.deepcopy(reference_bandits)\n",
    "        for i in range(steps):\n",
    "            if i == (steps // 4):\n",
    "                best_bandit = bandits[np.argmax(agent.estimate())]\n",
    "                bandits = [\n",
    "                    Bandit(2 * best_bandit.mean - bandit.mean, 1)\n",
    "                    for bandit in bandits\n",
    "                ]\n",
    "            bandit = agent.pick(i)\n",
    "            reward = bandits[bandit].reward()\n",
    "            agent.on_reward(bandit, reward)\n",
    "            rewards[name].append(reward)\n",
    "    for name in agents:\n",
    "        rewards_agg[name].append(rewards[name])"
   ]
  },
  {
   "cell_type": "markdown",
   "id": "c6ef55a7-eb4b-4a7c-91d1-ada29682ea64",
   "metadata": {},
   "source": [
    "## Results"
   ]
  },
  {
   "cell_type": "code",
   "execution_count": 8,
   "id": "89d0040a-b496-4d2f-ab93-355c931dd1f3",
   "metadata": {},
   "outputs": [],
   "source": [
    "mean_rewards = {\n",
    "    name: np.mean(rewards, axis=0) for name, rewards in rewards_agg.items()\n",
    "}"
   ]
  },
  {
   "cell_type": "code",
   "execution_count": 9,
   "id": "86caff60-5d82-4269-b88a-2d8b85989c40",
   "metadata": {},
   "outputs": [
    {
     "data": {
      "text/plain": "Text(0, 0.5, 'average reward')"
     },
     "execution_count": 9,
     "metadata": {},
     "output_type": "execute_result"
    },
    {
     "data": {
      "text/plain": "<Figure size 720x495 with 1 Axes>",
      "image/png": "[encoded data removed]"
     },
     "metadata": {},
     "output_type": "display_data"
    }
   ],
   "source": [
    "for name, rewards in mean_rewards.items():\n",
    "    plt.plot(rewards, label=name)\n",
    "plt.legend()\n",
    "plt.title(\"Average reward in each iteration\")\n",
    "plt.xlabel(\"iteration\")\n",
    "plt.ylabel(\"average reward\")"
   ]
  }
 ],
 "metadata": {
  "kernelspec": {
   "display_name": "Python 3 (ipykernel)",
   "language": "python",
   "name": "python3"
  },
  "language_info": {
   "codemirror_mode": {
    "name": "ipython",
    "version": 3
   },
   "file_extension": ".py",
   "mimetype": "text/x-python",
   "name": "python",
   "nbconvert_exporter": "python",
   "pygments_lexer": "ipython3",
   "version": "3.10.6"
  }
 },
 "nbformat": 4,
 "nbformat_minor": 5
}
