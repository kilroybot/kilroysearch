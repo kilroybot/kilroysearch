{
 "cells": [
  {
   "cell_type": "code",
   "execution_count": 1,
   "id": "3cae58c1-18be-4625-8ba7-86d15cab4693",
   "metadata": {},
   "outputs": [],
   "source": [
    "import torch\n",
    "from torch import nn, optim\n",
    "import matplotlib.pyplot as plt"
   ]
  },
  {
   "cell_type": "code",
   "execution_count": 2,
   "id": "59a459fb-0db9-4ccb-b923-2cc374f972c6",
   "metadata": {},
   "outputs": [],
   "source": [
    "n_choices = 100"
   ]
  },
  {
   "cell_type": "code",
   "execution_count": 3,
   "id": "1613db73-00fe-4ea3-8e91-c5cde94d739d",
   "metadata": {},
   "outputs": [
    {
     "data": {
      "text/plain": [
       "tensor([-0.4595, -0.1203, -0.1702, -0.2653, -0.6857, -0.6347,  1.1472, -1.4484,\n",
       "        -0.5250, -0.4867, -0.7117, -1.1879, -0.4408,  0.3807,  1.6300,  0.5331,\n",
       "        -0.5031, -0.1922,  2.1876,  0.8341,  0.0367,  0.0706, -0.8035, -1.0539,\n",
       "         0.8323,  0.9009,  0.8171,  1.0341, -0.2808, -1.7675,  0.9201, -1.1343,\n",
       "         0.3229, -1.5715, -1.0373, -1.2801, -1.9845,  0.0081, -0.4968,  0.5615,\n",
       "         0.8020,  0.0312,  1.9523,  0.1756,  1.8664, -0.2495,  0.7780,  0.1735,\n",
       "         0.1046, -0.3974, -1.7839, -2.0468, -0.9796,  0.0530, -0.6119, -0.4374,\n",
       "         1.0833, -0.5647,  0.9898,  0.0503, -0.7535, -0.2221,  0.9356, -0.9904,\n",
       "        -0.9419, -1.4333,  1.4412, -0.3370, -0.4285,  0.5081, -0.3702,  1.3647,\n",
       "        -1.3594, -0.3157, -1.5216,  0.1786, -0.7397, -0.1130, -1.4725,  1.4103,\n",
       "        -0.8687,  1.0072, -0.9607, -0.3280, -1.6302, -0.1889, -0.8818, -0.1646,\n",
       "         0.0707,  0.2263,  1.1492, -0.1294,  0.3577,  0.9364, -0.1232,  0.1978,\n",
       "         0.0756,  0.4737, -0.3807, -1.0142])"
      ]
     },
     "execution_count": 3,
     "metadata": {},
     "output_type": "execute_result"
    }
   ],
   "source": [
    "rewards = torch.randn(n_choices)\n",
    "rewards"
   ]
  },
  {
   "cell_type": "code",
   "execution_count": 4,
   "id": "ae2a9606-4d7e-41d4-8ba2-9b78c3ce9b2c",
   "metadata": {},
   "outputs": [],
   "source": [
    "class Actor(nn.Module):\n",
    "    def __init__(self, n_out, n_hidden=10):\n",
    "        super().__init__()\n",
    "        self.x = torch.ones(1)\n",
    "        self.layers = nn.Sequential(\n",
    "            nn.Linear(1, n_hidden),\n",
    "            nn.ReLU(),\n",
    "            nn.Linear(n_hidden, n_out),\n",
    "            nn.Softmax(-1)\n",
    "        )\n",
    "\n",
    "    def forward(self):\n",
    "        return self.layers(self.x)"
   ]
  },
  {
   "cell_type": "code",
   "execution_count": 5,
   "id": "32d27f35-22d5-4f1f-8485-49a1749635b1",
   "metadata": {},
   "outputs": [],
   "source": [
    "class Critic(nn.Module):\n",
    "    def __init__(self, n_in, n_hidden=10):\n",
    "        super().__init__()\n",
    "        self.x = torch.ones(n_hidden)\n",
    "        self.layers = nn.Sequential(\n",
    "            nn.Linear(n_in, n_hidden),\n",
    "            nn.ReLU(),\n",
    "            nn.Linear(n_hidden, 1)\n",
    "        )\n",
    "\n",
    "    def forward(self, x):\n",
    "        return self.layers(x)"
   ]
  },
  {
   "cell_type": "code",
   "execution_count": 6,
   "id": "e1f1232d-429d-47d5-9b11-334f1c57c4ad",
   "metadata": {},
   "outputs": [],
   "source": [
    "class Sampler:\n",
    "    def __init__(self, weights):\n",
    "        self.sampler = torch.distributions.categorical.Categorical(weights)\n",
    "        \n",
    "    def sample(self, n=1):\n",
    "        return  self.sampler.sample((n,))"
   ]
  },
  {
   "cell_type": "code",
   "execution_count": 7,
   "id": "55d6279c-5d2e-40a9-9c3e-9042d18e657c",
   "metadata": {},
   "outputs": [],
   "source": [
    "class OneHotEncoder:\n",
    "    def __init__(self, n):\n",
    "        self.n = n\n",
    "        \n",
    "    def encode(self, x):\n",
    "        return nn.functional.one_hot(x, self.n)"
   ]
  },
  {
   "cell_type": "code",
   "execution_count": 8,
   "id": "38255efc-8e3f-4441-8a7a-30cda7254205",
   "metadata": {},
   "outputs": [],
   "source": [
    "actor = Actor(n_choices)\n",
    "critic = Critic(n_choices)"
   ]
  },
  {
   "cell_type": "code",
   "execution_count": 9,
   "id": "09948463-871a-4446-999e-f5bd4f616f81",
   "metadata": {},
   "outputs": [],
   "source": [
    "encoder = OneHotEncoder(n_choices)"
   ]
  },
  {
   "cell_type": "code",
   "execution_count": 10,
   "id": "5426fa5d-cc01-4cf0-9c56-a4ac1bd2d8b8",
   "metadata": {},
   "outputs": [],
   "source": [
    "actor_optimizer = optim.Adam(actor.parameters(), lr=0.001)\n",
    "critic_optimizer = optim.Adam(critic.parameters(), lr=0.005)"
   ]
  },
  {
   "cell_type": "code",
   "execution_count": 11,
   "id": "26903bea-8d57-4b08-a5e2-25af4748d075",
   "metadata": {},
   "outputs": [],
   "source": [
    "criterion = nn.MSELoss()"
   ]
  },
  {
   "cell_type": "code",
   "execution_count": 12,
   "id": "96bba287-9aef-4cfc-9922-8f78e1b7505e",
   "metadata": {},
   "outputs": [],
   "source": [
    "epochs = 1000\n",
    "actor_iters = 10000\n",
    "critic_iters = 10"
   ]
  },
  {
   "cell_type": "code",
   "execution_count": 13,
   "id": "40469a5b-ad22-4d3d-b534-c9b28e9d5329",
   "metadata": {
    "tags": []
   },
   "outputs": [],
   "source": [
    "critic_losses = []\n",
    "actor_rewards = []\n",
    "\n",
    "for _ in range(epochs):\n",
    "    critic_optimizer.zero_grad()\n",
    "    choice = Sampler(actor()).sample(critic_iters)\n",
    "    x = encoder.encode(choice)\n",
    "    pred_reward = critic(x.float())\n",
    "    real_reward = rewards[choice].unsqueeze(-1)\n",
    "    loss = criterion(pred_reward, real_reward)\n",
    "    loss.backward()\n",
    "    critic_optimizer.step()\n",
    "    \n",
    "    critic_losses.append(loss.item())\n",
    "    \n",
    "    actor_optimizer.zero_grad()\n",
    "    probs = actor()\n",
    "    choice = Sampler(probs).sample(actor_iters)\n",
    "    x = encoder.encode(choice)\n",
    "    reward = critic(x.float())\n",
    "    loss = -(reward * torch.log(probs[choice].unsqueeze(-1))).mean()\n",
    "    loss.backward()\n",
    "    actor_optimizer.step()\n",
    "    \n",
    "    actor_rewards.append(reward.mean().item())"
   ]
  },
  {
   "cell_type": "code",
   "execution_count": 14,
   "id": "6a9be49d-1f5b-4a6c-8982-e976eac3507b",
   "metadata": {},
   "outputs": [
    {
     "data": {
      "text/plain": [
       "[<matplotlib.lines.Line2D at 0x7fb02b1f0580>]"
      ]
     },
     "execution_count": 14,
     "metadata": {},
     "output_type": "execute_result"
    },
    {
     "data": {
      "image/png": "[encoded data removed]",
      "text/plain": [
       "<Figure size 1080x360 with 2 Axes>"
      ]
     },
     "metadata": {
      "needs_background": "light"
     },
     "output_type": "display_data"
    }
   ],
   "source": [
    "_, axs = plt.subplots(1, 2, figsize=(15, 5))\n",
    "axs[0].plot(critic_losses)\n",
    "axs[1].plot(actor_rewards)"
   ]
  },
  {
   "cell_type": "code",
   "execution_count": 15,
   "id": "0b59ab5e-7853-41f5-8e49-242749a4ac41",
   "metadata": {},
   "outputs": [
    {
     "data": {
      "text/plain": [
       "<BarContainer object of 100 artists>"
      ]
     },
     "execution_count": 15,
     "metadata": {},
     "output_type": "execute_result"
    },
    {
     "data": {
      "image/png": "[encoded data removed]",
      "text/plain": [
       "<Figure size 576x864 with 3 Axes>"
      ]
     },
     "metadata": {
      "needs_background": "light"
     },
     "output_type": "display_data"
    }
   ],
   "source": [
    "color=['C1' if i == actor().argmax() else 'C0' for i in range(n_choices)]\n",
    "_, axs = plt.subplots(3, 1, figsize=(8, 12))\n",
    "axs[0].bar(range(n_choices), rewards, color=color)\n",
    "axs[1].bar(range(n_choices), critic(encoder.encode(torch.arange(n_choices)).float()).flatten().detach().numpy(), color=color)\n",
    "axs[2].bar(range(n_choices), actor().detach().numpy(), color=color)"
   ]
  }
 ],
 "metadata": {
  "kernelspec": {
   "display_name": "Python 3 (ipykernel)",
   "language": "python",
   "name": "python3"
  },
  "language_info": {
   "codemirror_mode": {
    "name": "ipython",
    "version": 3
   },
   "file_extension": ".py",
   "mimetype": "text/x-python",
   "name": "python",
   "nbconvert_exporter": "python",
   "pygments_lexer": "ipython3",
   "version": "3.9.7"
  }
 },
 "nbformat": 4,
 "nbformat_minor": 5
}
