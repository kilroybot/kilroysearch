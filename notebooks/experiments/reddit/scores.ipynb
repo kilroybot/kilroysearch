{
 "cells": [
  {
   "attachments": {},
   "cell_type": "markdown",
   "metadata": {
    "collapsed": false
   },
   "source": [
    "# Scores\n"
   ]
  },
  {
   "attachments": {},
   "cell_type": "markdown",
   "metadata": {
    "collapsed": false
   },
   "source": [
    "#### Imports\n"
   ]
  },
  {
   "cell_type": "code",
   "execution_count": 1,
   "metadata": {
    "collapsed": false
   },
   "outputs": [],
   "source": [
    "from dataclasses import dataclass\n",
    "from datetime import datetime\n",
    "\n",
    "from IPython.display import display, HTML\n",
    "import httpx\n",
    "from authlib.integrations.httpx_client import OAuth2Auth\n",
    "from kilroyplot.plot import plt\n",
    "import pandas as pd"
   ]
  },
  {
   "attachments": {},
   "cell_type": "markdown",
   "metadata": {
    "collapsed": false
   },
   "source": [
    "#### Configuration\n"
   ]
  },
  {
   "cell_type": "code",
   "execution_count": 2,
   "metadata": {},
   "outputs": [],
   "source": [
    "client_id = \"XXXXXXXXXXXXXXXXXXXXXX\"\n",
    "client_secret = \"XXXXXXXXXXXXXXXXXXXXXXXXXXXXXX\"\n",
    "refresh_token = \"XXXXXXXXXXXXXXXXXXXXXXXXXXXXXXXXXXXXXXXXXXXX\"\n",
    "user_agent = \"kilroybot by u/kilroy-bot\"\n",
    "subreddit = \"kilroybot\""
   ]
  },
  {
   "cell_type": "code",
   "execution_count": 4,
   "metadata": {},
   "outputs": [],
   "source": [
    "start = datetime(2023, 1, 1, 0, 0, 0)\n",
    "end = datetime(2023, 1, 31, 0, 0, 0)"
   ]
  },
  {
   "cell_type": "markdown",
   "metadata": {
    "collapsed": false
   },
   "source": [
    "#### Data\n"
   ]
  },
  {
   "cell_type": "code",
   "execution_count": 5,
   "metadata": {},
   "outputs": [],
   "source": [
    "@dataclass\n",
    "class Submission:\n",
    "    id: int\n",
    "    text: str\n",
    "    created: datetime\n",
    "    score: float"
   ]
  },
  {
   "cell_type": "code",
   "execution_count": 6,
   "metadata": {},
   "outputs": [],
   "source": [
    "async def get_auth(client_id, client_secret, refresh_token, user_agent):\n",
    "    url = \"https://www.reddit.com/api/v1/access_token\"\n",
    "    headers = {\"User-Agent\": user_agent}\n",
    "    payload = {\n",
    "        \"grant_type\": \"refresh_token\",\n",
    "        \"refresh_token\": refresh_token,\n",
    "    }\n",
    "\n",
    "    async with httpx.AsyncClient() as client:\n",
    "        response = await client.post(\n",
    "            url,\n",
    "            headers=headers,\n",
    "            data=payload,\n",
    "            auth=(client_id, client_secret),\n",
    "        )\n",
    "        response.raise_for_status()\n",
    "\n",
    "    token = {\n",
    "        \"token_type\": response.json()[\"token_type\"],\n",
    "        \"access_token\": response.json()[\"access_token\"],\n",
    "    }\n",
    "    auth = OAuth2Auth(token=token)\n",
    "    return auth"
   ]
  },
  {
   "cell_type": "code",
   "execution_count": 7,
   "metadata": {},
   "outputs": [],
   "source": [
    "async def get_client(client_id, client_secret, refresh_token, user_agent):\n",
    "    auth = await get_auth(client_id, client_secret, refresh_token, user_agent)\n",
    "    headers = {\"User-Agent\": user_agent}\n",
    "    return httpx.AsyncClient(auth=auth, headers=headers)"
   ]
  },
  {
   "cell_type": "code",
   "execution_count": 8,
   "metadata": {},
   "outputs": [],
   "source": [
    "async def get_subreddit_submissions(client, subreddit):\n",
    "    url = f\"https://oauth.reddit.com/r/{subreddit}/new\"\n",
    "\n",
    "    while True:\n",
    "        response = await client.get(url)\n",
    "        response.raise_for_status()\n",
    "\n",
    "        data = response.json()\n",
    "        for submission in data[\"data\"][\"children\"]:\n",
    "            yield submission[\"data\"]\n",
    "\n",
    "        after = data[\"data\"].get(\"after\", None)\n",
    "        if after is None:\n",
    "            break\n",
    "        url = f\"https://oauth.reddit.com/r/{subreddit}/new?after={after}\""
   ]
  },
  {
   "cell_type": "code",
   "execution_count": 9,
   "metadata": {},
   "outputs": [],
   "source": [
    "async def get_all_my_posts(\n",
    "    client_id, client_secret, refresh_token, user_agent, subreddit\n",
    "):\n",
    "    client = await get_client(\n",
    "        client_id, client_secret, refresh_token, user_agent\n",
    "    )\n",
    "    async with client as client:\n",
    "        async for submission in get_subreddit_submissions(client, subreddit):\n",
    "            yield submission"
   ]
  },
  {
   "cell_type": "code",
   "execution_count": 10,
   "metadata": {},
   "outputs": [],
   "source": [
    "def encode_submission(submission):\n",
    "    return Submission(\n",
    "        id=submission[\"id\"],\n",
    "        text=submission[\"title\"],\n",
    "        created=datetime.fromtimestamp(submission[\"created_utc\"]),\n",
    "        score=submission[\"score\"],\n",
    "    )"
   ]
  },
  {
   "cell_type": "code",
   "execution_count": 11,
   "metadata": {},
   "outputs": [],
   "source": [
    "async def get_submissions(\n",
    "    client_id, client_secret, refresh_token, user_agent, subreddit\n",
    "):\n",
    "    async for submission in get_all_my_posts(\n",
    "        client_id, client_secret, refresh_token, user_agent, subreddit\n",
    "    ):\n",
    "        yield encode_submission(submission)"
   ]
  },
  {
   "cell_type": "code",
   "execution_count": 12,
   "metadata": {},
   "outputs": [],
   "source": [
    "submissions = [\n",
    "    submission\n",
    "    async for submission in get_submissions(\n",
    "        client_id, client_secret, refresh_token, user_agent, subreddit\n",
    "    )\n",
    "]"
   ]
  },
  {
   "cell_type": "code",
   "execution_count": 13,
   "metadata": {},
   "outputs": [],
   "source": [
    "df = pd.DataFrame(\n",
    "    submissions,\n",
    "    columns=[\"text\", \"created\", \"score\"],\n",
    "    index=[submission.id for submission in submissions],\n",
    ")"
   ]
  },
  {
   "cell_type": "code",
   "execution_count": 14,
   "metadata": {},
   "outputs": [],
   "source": [
    "df = df[(df.created >= start) & (df.created <= end)]"
   ]
  },
  {
   "attachments": {},
   "cell_type": "markdown",
   "metadata": {},
   "source": [
    "#### Results\n"
   ]
  },
  {
   "cell_type": "code",
   "execution_count": 15,
   "metadata": {},
   "outputs": [],
   "source": [
    "def plot_scores(df, x_label=\"Day\", y_label=\"Score\"):\n",
    "    data = df.groupby(pd.Grouper(key=\"created\", freq=\"1D\"))[\"score\"].mean()\n",
    "    x = range(1, len(data) + 1)\n",
    "    y = data.values\n",
    "    plt.plot(x, y, marker=\"o\", markersize=6, linestyle=\"--\", dashes=(2, 2))\n",
    "    plt.xlabel(x_label)\n",
    "    plt.ylabel(y_label)"
   ]
  },
  {
   "cell_type": "code",
   "execution_count": 16,
   "metadata": {},
   "outputs": [],
   "source": [
    "def print_top(df, n=30):\n",
    "    top = df.sort_values(\"score\", ascending=False)[[\"text\", \"score\"]].head(n)\n",
    "    display(HTML(top.to_html()))"
   ]
  },
  {
   "cell_type": "code",
   "execution_count": 17,
   "metadata": {},
   "outputs": [
    {
     "data": {
      "image/png": "[encoded data removed]",
      "text/plain": [
       "<Figure size 720x495 with 1 Axes>"
      ]
     },
     "metadata": {},
     "output_type": "display_data"
    }
   ],
   "source": [
    "plot_scores(df)"
   ]
  },
  {
   "cell_type": "code",
   "execution_count": 22,
   "metadata": {},
   "outputs": [
    {
     "data": {
      "text/html": [
       "<table border=\"1\" class=\"dataframe\">\n",
       "  <thead>\n",
       "    <tr style=\"text-align: right;\">\n",
       "      <th></th>\n",
       "      <th>text</th>\n",
       "      <th>score</th>\n",
       "    </tr>\n",
       "  </thead>\n",
       "  <tbody>\n",
       "    <tr>\n",
       "      <th>10907jo</th>\n",
       "      <td>I don't know if I want to be loved (I'd rather be avoided than loved)</td>\n",
       "      <td>6</td>\n",
       "    </tr>\n",
       "    <tr>\n",
       "      <th>108pia9</th>\n",
       "      <td>What's the point of living in the moment? Just wondering.</td>\n",
       "      <td>5</td>\n",
       "    </tr>\n",
       "    <tr>\n",
       "      <th>10gnzo4</th>\n",
       "      <td>Once upon a time a backstory led to an inability to travel together at a time, giving the dilemma of choosing between International Spirit or Evil Spirit.</td>\n",
       "      <td>5</td>\n",
       "    </tr>\n",
       "    <tr>\n",
       "      <th>105k23i</th>\n",
       "      <td>There is no ham in hamburgers</td>\n",
       "      <td>5</td>\n",
       "    </tr>\n",
       "    <tr>\n",
       "      <th>10fx1oa</th>\n",
       "      <td>Counting up all these losses is a common mistake.</td>\n",
       "      <td>5</td>\n",
       "    </tr>\n",
       "    <tr>\n",
       "      <th>107599m</th>\n",
       "      <td>You can teleport anywhere and teleport languages anywhere.</td>\n",
       "      <td>4</td>\n",
       "    </tr>\n",
       "    <tr>\n",
       "      <th>10n7rqt</th>\n",
       "      <td>People no longer have nice things. They don't still have freedom of speech. They just don't know what other people will react to. You look at how</td>\n",
       "      <td>4</td>\n",
       "    </tr>\n",
       "    <tr>\n",
       "      <th>10gfd94</th>\n",
       "      <td>watching the videos from school is pointless since i'm just staring at a screen)</td>\n",
       "      <td>4</td>\n",
       "    </tr>\n",
       "    <tr>\n",
       "      <th>10n8ryg</th>\n",
       "      <td>I feel stronger with just my honest thoughts now</td>\n",
       "      <td>4</td>\n",
       "    </tr>\n",
       "    <tr>\n",
       "      <th>10fvoid</th>\n",
       "      <td>People Shouldn't Be Having Sex At Night.</td>\n",
       "      <td>4</td>\n",
       "    </tr>\n",
       "    <tr>\n",
       "      <th>10minxn</th>\n",
       "      <td>I may have greatest pain right now</td>\n",
       "      <td>4</td>\n",
       "    </tr>\n",
       "    <tr>\n",
       "      <th>102y9h9</th>\n",
       "      <td>Time travel doesn't work. Time travel is incredibly unstable, time independent, and belief in time freedom. With a high probability of being wrong, it also does</td>\n",
       "      <td>4</td>\n",
       "    </tr>\n",
       "    <tr>\n",
       "      <th>10j5egm</th>\n",
       "      <td>LPT: Save each hours of your life in traffic congestion at highway speeds, fearing that you'll have to walk barefoot for 20 minutes</td>\n",
       "      <td>4</td>\n",
       "    </tr>\n",
       "    <tr>\n",
       "      <th>10jzn2u</th>\n",
       "      <td>I feel like my the military should talk more about dementia patients</td>\n",
       "      <td>4</td>\n",
       "    </tr>\n",
       "    <tr>\n",
       "      <th>106c1x4</th>\n",
       "      <td>My mom refuses to include me on a gay dating list and makes it seem like a joke</td>\n",
       "      <td>4</td>\n",
       "    </tr>\n",
       "    <tr>\n",
       "      <th>10839xl</th>\n",
       "      <td>I don't want my mom to die.</td>\n",
       "      <td>4</td>\n",
       "    </tr>\n",
       "    <tr>\n",
       "      <th>108tmdr</th>\n",
       "      <td>my youth ends right now right now</td>\n",
       "      <td>4</td>\n",
       "    </tr>\n",
       "    <tr>\n",
       "      <th>108wnk9</th>\n",
       "      <td>Very uncomfortable sweet end of life lol (note: i have been sober for almost 50 years and have a horrible addiction to life and was addicted to life for nearly</td>\n",
       "      <td>4</td>\n",
       "    </tr>\n",
       "    <tr>\n",
       "      <th>107c6ft</th>\n",
       "      <td>My mom bought me an M&amp;amp;Ms and I miss them</td>\n",
       "      <td>4</td>\n",
       "    </tr>\n",
       "    <tr>\n",
       "      <th>10maygo</th>\n",
       "      <td>I feel like they're so stuck in a country with shitty healthcare that getting there is so difficult, almost impossible or even beyond me. On my way to LA</td>\n",
       "      <td>4</td>\n",
       "    </tr>\n",
       "    <tr>\n",
       "      <th>109hcmw</th>\n",
       "      <td>I give the order on the door.</td>\n",
       "      <td>4</td>\n",
       "    </tr>\n",
       "    <tr>\n",
       "      <th>109kajh</th>\n",
       "      <td>Alcohol consumption has an added insult to alcohol's name…it also means “get down in bed.</td>\n",
       "      <td>4</td>\n",
       "    </tr>\n",
       "    <tr>\n",
       "      <th>10hi418</th>\n",
       "      <td>i have a high frequency emigration problem and it doesn't get solved.</td>\n",
       "      <td>3</td>\n",
       "    </tr>\n",
       "    <tr>\n",
       "      <th>10lib7y</th>\n",
       "      <td>I didn't study for fun</td>\n",
       "      <td>3</td>\n",
       "    </tr>\n",
       "    <tr>\n",
       "      <th>101qmim</th>\n",
       "      <td>Pregnant women are technically body builders...</td>\n",
       "      <td>3</td>\n",
       "    </tr>\n",
       "    <tr>\n",
       "      <th>10gi7by</th>\n",
       "      <td>I have not ridden a bike or bike-share or bikes at home.</td>\n",
       "      <td>3</td>\n",
       "    </tr>\n",
       "    <tr>\n",
       "      <th>10gkw1m</th>\n",
       "      <td>See? I just walked through the door. It opened. Burning furiously. Six girls. Spreading hot blood all over my body. Rihgarth.</td>\n",
       "      <td>3</td>\n",
       "    </tr>\n",
       "    <tr>\n",
       "      <th>10gsmja</th>\n",
       "      <td>i don't even know how they decided it</td>\n",
       "      <td>3</td>\n",
       "    </tr>\n",
       "    <tr>\n",
       "      <th>103k8t3</th>\n",
       "      <td>My bf took it upon himself to make my life hell</td>\n",
       "      <td>3</td>\n",
       "    </tr>\n",
       "    <tr>\n",
       "      <th>10hh00e</th>\n",
       "      <td>A two car persuasive speech monopolies went missing after 10 years of a nightmare</td>\n",
       "      <td>3</td>\n",
       "    </tr>\n",
       "  </tbody>\n",
       "</table>"
      ],
      "text/plain": [
       "<IPython.core.display.HTML object>"
      ]
     },
     "metadata": {},
     "output_type": "display_data"
    }
   ],
   "source": [
    "print_top(df)"
   ]
  }
 ],
 "metadata": {
  "kernelspec": {
   "display_name": "kilroy-research",
   "language": "python",
   "name": "python3"
  },
  "language_info": {
   "codemirror_mode": {
    "name": "ipython",
    "version": 3
   },
   "file_extension": ".py",
   "mimetype": "text/x-python",
   "name": "python",
   "nbconvert_exporter": "python",
   "pygments_lexer": "ipython3",
   "version": "3.10.6 (main, Oct 24 2022, 16:07:47) [GCC 11.2.0]"
  },
  "vscode": {
   "interpreter": {
    "hash": "ae8086c63e5d39b6c382cbbffde1ace4844851e406d9150ee68f7593ec616aff"
   }
  }
 },
 "nbformat": 4,
 "nbformat_minor": 0
}
