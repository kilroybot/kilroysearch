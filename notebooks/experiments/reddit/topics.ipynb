{
 "cells": [
  {
   "attachments": {},
   "cell_type": "markdown",
   "metadata": {},
   "source": [
    "# Topics"
   ]
  },
  {
   "attachments": {},
   "cell_type": "markdown",
   "metadata": {},
   "source": [
    "#### Imports"
   ]
  },
  {
   "cell_type": "code",
   "execution_count": 1,
   "metadata": {},
   "outputs": [],
   "source": [
    "import json\n",
    "\n",
    "from transformers import pipeline, logging\n",
    "import pandas as pd\n",
    "from kilroyplot.plot import plt"
   ]
  },
  {
   "attachments": {},
   "cell_type": "markdown",
   "metadata": {},
   "source": [
    "#### Configuration"
   ]
  },
  {
   "cell_type": "code",
   "execution_count": 2,
   "metadata": {},
   "outputs": [],
   "source": [
    "model = \"cardiffnlp/tweet-topic-latest-single\"\n",
    "batch_size = 256"
   ]
  },
  {
   "attachments": {},
   "cell_type": "markdown",
   "metadata": {},
   "source": [
    "#### Data"
   ]
  },
  {
   "cell_type": "code",
   "execution_count": 3,
   "metadata": {},
   "outputs": [],
   "source": [
    "def load_data(path):\n",
    "    return pd.read_json(path, lines=True)[\"content\"]"
   ]
  },
  {
   "cell_type": "code",
   "execution_count": 4,
   "metadata": {},
   "outputs": [],
   "source": [
    "def load_model(model, batch_size):\n",
    "    current_level = logging.get_verbosity()\n",
    "    logging.set_verbosity_error()\n",
    "    pipe = pipeline(model=model, batch_size=batch_size, top_k=None)\n",
    "    logging.set_verbosity(current_level)\n",
    "    return pipe"
   ]
  },
  {
   "cell_type": "code",
   "execution_count": 5,
   "metadata": {},
   "outputs": [],
   "source": [
    "def score(data, model):\n",
    "    all_scores = model(data.values.tolist())\n",
    "    return pd.DataFrame(\n",
    "        [\n",
    "            pd.Series({s[\"label\"]: s[\"score\"] for s in scores})\n",
    "            for scores in all_scores\n",
    "        ]\n",
    "    )"
   ]
  },
  {
   "cell_type": "code",
   "execution_count": 6,
   "metadata": {},
   "outputs": [],
   "source": [
    "def score_data(path, model):\n",
    "    data = load_data(path)\n",
    "    return score(data, model)"
   ]
  },
  {
   "cell_type": "code",
   "execution_count": 7,
   "metadata": {},
   "outputs": [],
   "source": [
    "model = load_model(model, batch_size)"
   ]
  },
  {
   "cell_type": "code",
   "execution_count": 8,
   "metadata": {},
   "outputs": [],
   "source": [
    "before = score_data(\"before.jsonl\", model)\n",
    "after = score_data(\"after.jsonl\", model)"
   ]
  },
  {
   "attachments": {},
   "cell_type": "markdown",
   "metadata": {},
   "source": [
    "#### Results"
   ]
  },
  {
   "cell_type": "code",
   "execution_count": 9,
   "metadata": {},
   "outputs": [],
   "source": [
    "def get_topic_label(topic):\n",
    "    return topic.replace(\"_\", \" \").capitalize()"
   ]
  },
  {
   "cell_type": "code",
   "execution_count": 10,
   "metadata": {},
   "outputs": [],
   "source": [
    "def plot_topics(\n",
    "    i,\n",
    "    n,\n",
    "    data,\n",
    "    label,\n",
    "    x_label=\"Score\",\n",
    "    y_label=\"Topic\",\n",
    "    fmt_topic=get_topic_label,\n",
    "):\n",
    "    height = 1 / (n + 2)\n",
    "    scores = data.mean()\n",
    "    bars_pos = [j - i * height for j in range(len(scores))]\n",
    "    ticks_pos = [j - ((n - 1) / 2) * height for j in range(len(scores))]\n",
    "    ticks = [fmt_topic(topic) for topic in scores.index]\n",
    "\n",
    "    p = plt.barh(bars_pos, scores, height=height, label=label)\n",
    "    plt.yticks(ticks_pos, ticks)\n",
    "    plt.xlabel(x_label)\n",
    "    plt.ylabel(y_label)\n",
    "    plt.legend()"
   ]
  },
  {
   "cell_type": "code",
   "execution_count": 11,
   "metadata": {},
   "outputs": [
    {
     "data": {
      "image/png": "[encoded data removed]",
      "text/plain": [
       "<Figure size 720x495 with 1 Axes>"
      ]
     },
     "metadata": {},
     "output_type": "display_data"
    }
   ],
   "source": [
    "plot_topics(0, 2, before, \"Before\")\n",
    "plot_topics(1, 2, after, \"After\")"
   ]
  }
 ],
 "metadata": {
  "kernelspec": {
   "display_name": "kilroy-research",
   "language": "python",
   "name": "python3"
  },
  "language_info": {
   "codemirror_mode": {
    "name": "ipython",
    "version": 3
   },
   "file_extension": ".py",
   "mimetype": "text/x-python",
   "name": "python",
   "nbconvert_exporter": "python",
   "pygments_lexer": "ipython3",
   "version": "3.10.6 (main, Oct 24 2022, 16:07:47) [GCC 11.2.0]"
  },
  "orig_nbformat": 4,
  "vscode": {
   "interpreter": {
    "hash": "ae8086c63e5d39b6c382cbbffde1ace4844851e406d9150ee68f7593ec616aff"
   }
  }
 },
 "nbformat": 4,
 "nbformat_minor": 2
}
