{
 "cells": [
  {
   "attachments": {},
   "cell_type": "markdown",
   "id": "2aadd342-d77a-4212-9240-8befea4efd76",
   "metadata": {},
   "source": [
    "# Online critic"
   ]
  },
  {
   "attachments": {},
   "cell_type": "markdown",
   "id": "73c38915-17d7-4b08-a15c-b0ea714ccfd7",
   "metadata": {},
   "source": [
    "#### Imports"
   ]
  },
  {
   "cell_type": "code",
   "execution_count": 1,
   "id": "3cae58c1-18be-4625-8ba7-86d15cab4693",
   "metadata": {},
   "outputs": [],
   "source": [
    "from abc import ABC, abstractmethod\n",
    "from itertools import pairwise\n",
    "\n",
    "import numpy as np\n",
    "import torch\n",
    "import torch.nn as nn\n",
    "import torch.nn.functional as F\n",
    "import torch.nn.utils.rnn as rnn\n",
    "import torch.optim as optim\n",
    "from kilroyplot.plot import plt\n",
    "from torch.distributions.categorical import Categorical\n",
    "import einops as ein"
   ]
  },
  {
   "attachments": {},
   "cell_type": "markdown",
   "id": "5bef5998",
   "metadata": {},
   "source": [
    "#### Configuration"
   ]
  },
  {
   "cell_type": "code",
   "execution_count": 2,
   "id": "95c67d10",
   "metadata": {},
   "outputs": [],
   "source": [
    "start_word, stop_word, pad_word = 1, 2, 0\n",
    "vocab_size = max(4, 10)\n",
    "max_length = 5\n",
    "embedding_dim, hidden_dim, out_dim = 16, 16, vocab_size\n",
    "n_times = 10\n",
    "epochs = 2000\n",
    "external_sample_size = 20\n",
    "internal_sample_size = 200\n",
    "buffer_length = 1000"
   ]
  },
  {
   "attachments": {},
   "cell_type": "markdown",
   "id": "d0699358",
   "metadata": {},
   "source": [
    "#### Seeding"
   ]
  },
  {
   "cell_type": "code",
   "execution_count": 3,
   "id": "8c640ec8",
   "metadata": {},
   "outputs": [],
   "source": [
    "seed = 123\n",
    "torch.manual_seed(seed)\n",
    "np.random.seed(seed)"
   ]
  },
  {
   "attachments": {},
   "cell_type": "markdown",
   "id": "d400ed9f-921d-4d7b-99a1-383aaf6acbcf",
   "metadata": {},
   "source": [
    "#### Utilities"
   ]
  },
  {
   "cell_type": "code",
   "execution_count": 4,
   "id": "e62de55a-d80c-4b80-a3f6-23485410242a",
   "metadata": {},
   "outputs": [],
   "source": [
    "def squash_packed(x, fn):\n",
    "    return rnn.PackedSequence(\n",
    "        fn(x.data), x.batch_sizes, x.sorted_indices, x.unsorted_indices\n",
    "    )\n",
    "\n",
    "\n",
    "def unpad_sequence(x, lengths):\n",
    "    return [s[:length] for s, length in zip(x, lengths)]"
   ]
  },
  {
   "attachments": {},
   "cell_type": "markdown",
   "id": "9162abfa-2547-46ea-a24f-5df25f3fa310",
   "metadata": {},
   "source": [
    "#### Reward function"
   ]
  },
  {
   "cell_type": "code",
   "execution_count": 5,
   "id": "2077775c",
   "metadata": {},
   "outputs": [],
   "source": [
    "class RewardFunction(ABC):\n",
    "    @abstractmethod\n",
    "    def __call__(self, x):\n",
    "        pass"
   ]
  },
  {
   "cell_type": "code",
   "execution_count": 6,
   "id": "647e99dd",
   "metadata": {},
   "outputs": [],
   "source": [
    "class ZigzagRewardFunction(RewardFunction):\n",
    "    def __init__(self, vocab_size, max_length):\n",
    "        self._vocab_size = vocab_size\n",
    "        self._max_length = max_length\n",
    "\n",
    "    def _score(self, x):\n",
    "        maximum = (self._vocab_size - 1) * (self._max_length - 1)\n",
    "        return sum([np.abs(b - a) for a, b in pairwise(x)]) / maximum\n",
    "\n",
    "    def __call__(self, x):\n",
    "        sequences = rnn.unpack_sequence(x)\n",
    "        scores = [torch.tensor([[self._score(s)]] * len(s)) for s in sequences]\n",
    "        return rnn.pack_sequence(scores, enforce_sorted=False)"
   ]
  },
  {
   "cell_type": "code",
   "execution_count": 7,
   "id": "192fb710",
   "metadata": {},
   "outputs": [],
   "source": [
    "reward_function = ZigzagRewardFunction(vocab_size, max_length)"
   ]
  },
  {
   "attachments": {},
   "cell_type": "markdown",
   "id": "f26637ba",
   "metadata": {},
   "source": [
    "#### Critic"
   ]
  },
  {
   "cell_type": "code",
   "execution_count": 8,
   "id": "9c222888",
   "metadata": {},
   "outputs": [],
   "source": [
    "class Critic(nn.Module, RewardFunction):\n",
    "    def __init__(self, vocab_size, embedding_dim, hidden_dim):\n",
    "        super().__init__()\n",
    "        self.embedding = nn.Embedding(vocab_size, embedding_dim)\n",
    "        self.lstm = nn.LSTM(embedding_dim, hidden_dim, batch_first=True)\n",
    "        self.linear = nn.Linear(hidden_dim, 1)\n",
    "\n",
    "    def forward(self, x):\n",
    "        is_packed = isinstance(x, rnn.PackedSequence)\n",
    "        x = (\n",
    "            squash_packed(x, self.embedding)\n",
    "            if is_packed\n",
    "            else self.embedding(x)\n",
    "        )\n",
    "        ht, _ = self.lstm(x)\n",
    "        return squash_packed(ht, self.linear) if is_packed else self.linear(ht)"
   ]
  },
  {
   "attachments": {},
   "cell_type": "markdown",
   "id": "2c43b5be",
   "metadata": {},
   "source": [
    "#### Policy"
   ]
  },
  {
   "cell_type": "code",
   "execution_count": 9,
   "id": "f5118a22",
   "metadata": {},
   "outputs": [],
   "source": [
    "class Policy(nn.Module):\n",
    "    def __init__(self, vocab_size, embedding_dim, hidden_dim, out_dim):\n",
    "        super().__init__()\n",
    "        self.embedding = nn.Embedding(vocab_size, embedding_dim)\n",
    "        self.lstm = nn.LSTM(embedding_dim, hidden_dim, batch_first=True)\n",
    "        self.linear = nn.Linear(hidden_dim, out_dim)\n",
    "\n",
    "    def forward(self, x):\n",
    "        is_packed = isinstance(x, rnn.PackedSequence)\n",
    "        x = (\n",
    "            squash_packed(x, self.embedding)\n",
    "            if is_packed\n",
    "            else self.embedding(x)\n",
    "        )\n",
    "        out, _ = self.lstm(x)\n",
    "        y = squash_packed(out, self.linear) if is_packed else self.linear(out)\n",
    "        return (\n",
    "            squash_packed(y, lambda yf: F.log_softmax(yf, dim=-1))\n",
    "            if is_packed\n",
    "            else F.log_softmax(y, dim=-1)\n",
    "        )"
   ]
  },
  {
   "cell_type": "code",
   "execution_count": 10,
   "id": "70f89211",
   "metadata": {},
   "outputs": [],
   "source": [
    "class Generator:\n",
    "    def __init__(self, model, start_word, end_word, pad_word, max_length):\n",
    "        self.model = model\n",
    "        self.start_word = start_word\n",
    "        self.end_word = end_word\n",
    "        self.pad_word = pad_word\n",
    "        self.max_length = max_length\n",
    "\n",
    "    def generate(self, n=1):\n",
    "        out = []\n",
    "        x = torch.tensor([[self.start_word]] * n)\n",
    "        i = 1\n",
    "        while len(x) > 0 and i < self.max_length:\n",
    "            batched_logprobs = self.model(x)[:, -1]\n",
    "            next_words = self.pick_words(batched_logprobs)\n",
    "            x = torch.cat((x, next_words.unsqueeze(-1)), dim=-1)\n",
    "            finished_mask = next_words == self.end_word\n",
    "            finished = x[finished_mask]\n",
    "            out.extend(list(finished))\n",
    "            x = x[~finished_mask]\n",
    "            i += 1\n",
    "        out.extend(list(x))\n",
    "        out = sorted(out, key=lambda s: len(s), reverse=True)\n",
    "        lengths = [len(s) for s in out]\n",
    "        out = rnn.pad_sequence(\n",
    "            out, batch_first=True, padding_value=self.pad_word\n",
    "        )\n",
    "        return rnn.pack_padded_sequence(out, lengths, batch_first=True)\n",
    "\n",
    "    def pick_words(self, batched_logprobs):\n",
    "        return torch.tensor(\n",
    "            [\n",
    "                Categorical(logprobs.exp()).sample()\n",
    "                for logprobs in batched_logprobs\n",
    "            ]\n",
    "        )"
   ]
  },
  {
   "attachments": {},
   "cell_type": "markdown",
   "id": "cfc8f495",
   "metadata": {},
   "source": [
    "#### Loss function"
   ]
  },
  {
   "cell_type": "code",
   "execution_count": 11,
   "id": "341a2e5e",
   "metadata": {},
   "outputs": [],
   "source": [
    "class LossFunction:\n",
    "    def __call__(self, logprobs, sentences, rewards):\n",
    "        logprobs = rnn.unpack_sequence(logprobs)\n",
    "        sentences = rnn.unpack_sequence(sentences)\n",
    "        rewards = rnn.unpack_sequence(rewards)\n",
    "        logprobs = [\n",
    "            torch.gather(p[:-1], -1, s[1:].unsqueeze(-1)).squeeze(-1)\n",
    "            for s, p in zip(sentences, logprobs)\n",
    "        ]\n",
    "        loss = torch.stack(\n",
    "            [-(r[1:].flatten() * p).mean() for p, r in zip(logprobs, rewards)]\n",
    "        )\n",
    "        return loss.mean()"
   ]
  },
  {
   "cell_type": "code",
   "execution_count": 12,
   "id": "0c83fd69",
   "metadata": {},
   "outputs": [],
   "source": [
    "loss_function = LossFunction()"
   ]
  },
  {
   "attachments": {},
   "cell_type": "markdown",
   "id": "624d26ae",
   "metadata": {},
   "source": [
    "#### Training"
   ]
  },
  {
   "cell_type": "code",
   "execution_count": 13,
   "id": "f29128fe",
   "metadata": {},
   "outputs": [],
   "source": [
    "class TrainIterationFunction(ABC):\n",
    "    @abstractmethod\n",
    "    def __call__(\n",
    "        policy,\n",
    "        generator,\n",
    "        sample_size,\n",
    "        optimizer,\n",
    "        reward_function,\n",
    "        loss_function,\n",
    "        pad_word,\n",
    "    ):\n",
    "        pass"
   ]
  },
  {
   "cell_type": "code",
   "execution_count": 14,
   "id": "c2fd18ed",
   "metadata": {},
   "outputs": [],
   "source": [
    "class BaseTrainIterationFunction(TrainIterationFunction):\n",
    "    def __call__(\n",
    "        self,\n",
    "        policy,\n",
    "        generator,\n",
    "        sample_size,\n",
    "        optimizer,\n",
    "        reward_function,\n",
    "        loss_function,\n",
    "        pad_word,\n",
    "    ):\n",
    "        optimizer.zero_grad()\n",
    "        sentences = generator.generate(sample_size)\n",
    "        rewards = reward_function(sentences)\n",
    "        logprobs = policy(sentences)\n",
    "        loss = loss_function(logprobs, sentences, rewards)\n",
    "        loss.backward()\n",
    "        optimizer.step()\n",
    "        return (\n",
    "            loss.item(),\n",
    "            torch.stack([r.mean() for r in rnn.unpack_sequence(rewards)])\n",
    "            .mean()\n",
    "            .item(),\n",
    "        )"
   ]
  },
  {
   "cell_type": "code",
   "execution_count": 15,
   "id": "3af867b4",
   "metadata": {},
   "outputs": [],
   "source": [
    "class CriticTrainIterationFunction(TrainIterationFunction):\n",
    "    def __init__(self, critic, lr, sample_size, buffer_length):\n",
    "        self._critic = critic\n",
    "        self._optimizer = optim.SGD(critic.parameters(), lr=lr)\n",
    "        self._sample_size = sample_size\n",
    "        self._buffer = []\n",
    "        self._buffer_length = buffer_length\n",
    "\n",
    "    def __call__(\n",
    "        self,\n",
    "        policy,\n",
    "        generator,\n",
    "        sample_size,\n",
    "        optimizer,\n",
    "        reward_function,\n",
    "        loss_function,\n",
    "        pad_word,\n",
    "    ):\n",
    "        sentences = generator.generate(sample_size)\n",
    "        evaluation_rewards = reward_function(sentences)\n",
    "        for sentence in rnn.unpack_sequence(sentences):\n",
    "            self._buffer.append(sentence)\n",
    "            if len(self._buffer) > self._buffer_length:\n",
    "                self._buffer.pop(0)\n",
    "\n",
    "        sentences = rnn.pack_sequence(self._buffer, enforce_sorted=False)\n",
    "\n",
    "        self._optimizer.zero_grad()\n",
    "        real_rewards = reward_function(sentences)\n",
    "        predicted_rewards = self._critic(sentences)\n",
    "        loss = F.mse_loss(predicted_rewards.data, real_rewards.data)\n",
    "        loss.backward()\n",
    "        self._optimizer.step()\n",
    "\n",
    "        optimizer.zero_grad()\n",
    "        sentences = generator.generate(self._sample_size)\n",
    "        rewards = self._critic(sentences)\n",
    "\n",
    "        rewards = rnn.pack_sequence(\n",
    "            [r - r[0] for r in rnn.unpack_sequence(rewards)]\n",
    "        )\n",
    "\n",
    "        logprobs = policy(sentences)\n",
    "        loss = loss_function(logprobs, sentences, rewards)\n",
    "        loss.backward()\n",
    "        optimizer.step()\n",
    "\n",
    "        return (\n",
    "            loss.item(),\n",
    "            torch.stack(\n",
    "                [r.mean() for r in rnn.unpack_sequence(evaluation_rewards)]\n",
    "            )\n",
    "            .mean()\n",
    "            .item(),\n",
    "        )"
   ]
  },
  {
   "cell_type": "code",
   "execution_count": 16,
   "id": "34fa0c10",
   "metadata": {},
   "outputs": [],
   "source": [
    "def train(\n",
    "    policy,\n",
    "    generator,\n",
    "    epochs,\n",
    "    sample_size,\n",
    "    optimizer,\n",
    "    reward_function,\n",
    "    train_iteration_function,\n",
    "    loss_function,\n",
    "    pad_word,\n",
    "):\n",
    "    losses, rewards = [], []\n",
    "    for i in range(epochs):\n",
    "        loss, reward = train_iteration_function(\n",
    "            policy,\n",
    "            generator,\n",
    "            sample_size,\n",
    "            optimizer,\n",
    "            reward_function,\n",
    "            loss_function,\n",
    "            pad_word,\n",
    "        )\n",
    "        losses.append(loss)\n",
    "        rewards.append(reward)\n",
    "    return torch.tensor(losses), torch.tensor(rewards)"
   ]
  },
  {
   "cell_type": "code",
   "execution_count": 17,
   "id": "7adbc6a5",
   "metadata": {},
   "outputs": [],
   "source": [
    "def run_base(\n",
    "    n_times,\n",
    "    vocab_size,\n",
    "    embedding_dim,\n",
    "    hidden_dim,\n",
    "    out_dim,\n",
    "    start_word,\n",
    "    stop_word,\n",
    "    pad_word,\n",
    "    max_length,\n",
    "    epochs,\n",
    "    sample_size,\n",
    "    lr,\n",
    "    reward_function,\n",
    "    loss_function,\n",
    "):\n",
    "    rewards = []\n",
    "    for i in range(n_times):\n",
    "        policy = Policy(vocab_size, embedding_dim, hidden_dim, out_dim)\n",
    "        generator = Generator(\n",
    "            policy, start_word, stop_word, pad_word, max_length\n",
    "        )\n",
    "        optimizer = optim.SGD(policy.parameters(), lr=lr)\n",
    "        _, r = train(\n",
    "            policy,\n",
    "            generator,\n",
    "            epochs,\n",
    "            sample_size,\n",
    "            optimizer,\n",
    "            reward_function,\n",
    "            BaseTrainIterationFunction(),\n",
    "            loss_function,\n",
    "            pad_word,\n",
    "        )\n",
    "        rewards.append(r)\n",
    "    return torch.stack(rewards)"
   ]
  },
  {
   "cell_type": "code",
   "execution_count": 18,
   "id": "018529b1",
   "metadata": {},
   "outputs": [],
   "source": [
    "def run_critic(\n",
    "    n_times,\n",
    "    vocab_size,\n",
    "    embedding_dim,\n",
    "    hidden_dim,\n",
    "    out_dim,\n",
    "    start_word,\n",
    "    stop_word,\n",
    "    pad_word,\n",
    "    max_length,\n",
    "    epochs,\n",
    "    external_sample_size,\n",
    "    internal_sample_size,\n",
    "    buffer_length,\n",
    "    policy_lr,\n",
    "    critic_lr,\n",
    "    reward_function,\n",
    "    loss_function,\n",
    "):\n",
    "    rewards = []\n",
    "    for i in range(n_times):\n",
    "        policy = Policy(vocab_size, embedding_dim, hidden_dim, out_dim)\n",
    "        critic = Critic(vocab_size, embedding_dim, hidden_dim)\n",
    "        generator = Generator(\n",
    "            policy, start_word, stop_word, pad_word, max_length\n",
    "        )\n",
    "        optimizer = optim.SGD(policy.parameters(), lr=policy_lr)\n",
    "        _, r = train(\n",
    "            policy,\n",
    "            generator,\n",
    "            epochs,\n",
    "            external_sample_size,\n",
    "            optimizer,\n",
    "            reward_function,\n",
    "            CriticTrainIterationFunction(\n",
    "                critic, critic_lr, internal_sample_size, buffer_length\n",
    "            ),\n",
    "            loss_function,\n",
    "            pad_word,\n",
    "        )\n",
    "        rewards.append(r)\n",
    "    return torch.stack(rewards)"
   ]
  },
  {
   "cell_type": "code",
   "execution_count": 19,
   "id": "6e3097d6",
   "metadata": {},
   "outputs": [],
   "source": [
    "rewards_base = run_base(\n",
    "    n_times,\n",
    "    vocab_size,\n",
    "    embedding_dim,\n",
    "    hidden_dim,\n",
    "    out_dim,\n",
    "    start_word,\n",
    "    stop_word,\n",
    "    pad_word,\n",
    "    max_length,\n",
    "    epochs,\n",
    "    external_sample_size,\n",
    "    0.3,\n",
    "    reward_function,\n",
    "    loss_function,\n",
    ")"
   ]
  },
  {
   "cell_type": "code",
   "execution_count": 20,
   "id": "bba624ec",
   "metadata": {},
   "outputs": [],
   "source": [
    "rewards_critic = run_critic(\n",
    "    n_times,\n",
    "    vocab_size,\n",
    "    embedding_dim,\n",
    "    hidden_dim,\n",
    "    out_dim,\n",
    "    start_word,\n",
    "    stop_word,\n",
    "    pad_word,\n",
    "    max_length,\n",
    "    epochs,\n",
    "    external_sample_size,\n",
    "    internal_sample_size,\n",
    "    buffer_length,\n",
    "    0.3,\n",
    "    0.1,\n",
    "    reward_function,\n",
    "    loss_function,\n",
    ")"
   ]
  },
  {
   "attachments": {},
   "cell_type": "markdown",
   "id": "3fdac2a3",
   "metadata": {},
   "source": [
    "#### Results"
   ]
  },
  {
   "cell_type": "code",
   "execution_count": 21,
   "id": "8d475de1",
   "metadata": {},
   "outputs": [],
   "source": [
    "def plot_rewards(\n",
    "    rewards, label, x_label=\"Iteration\", y_label=\"Reward\", alpha=0.5\n",
    "):\n",
    "    rewards = ein.rearrange(rewards, \"n t -> t n\")\n",
    "    median = rewards.median(dim=1).values\n",
    "    lower, upper = np.percentile(rewards, [25, 75], axis=1)\n",
    "    plt.plot(median, label=label)\n",
    "    plt.fill_between(range(len(median)), lower, upper, alpha=alpha)\n",
    "    plt.xlabel(x_label)\n",
    "    plt.ylabel(y_label)\n",
    "    plt.legend()"
   ]
  },
  {
   "cell_type": "code",
   "execution_count": 22,
   "id": "2fffab2f",
   "metadata": {},
   "outputs": [
    {
     "data": {
      "image/png": "[encoded data removed]",
      "text/plain": [
       "<Figure size 720x495 with 1 Axes>"
      ]
     },
     "metadata": {},
     "output_type": "display_data"
    }
   ],
   "source": [
    "plot_rewards(rewards_base, \"Base\")\n",
    "plot_rewards(rewards_critic, \"Critic\")"
   ]
  }
 ],
 "metadata": {
  "kernelspec": {
   "display_name": "kilroy-research",
   "language": "python",
   "name": "python3"
  },
  "language_info": {
   "codemirror_mode": {
    "name": "ipython",
    "version": 3
   },
   "file_extension": ".py",
   "mimetype": "text/x-python",
   "name": "python",
   "nbconvert_exporter": "python",
   "pygments_lexer": "ipython3",
   "version": "3.10.6 (main, Oct 24 2022, 16:07:47) [GCC 11.2.0]"
  },
  "vscode": {
   "interpreter": {
    "hash": "ae8086c63e5d39b6c382cbbffde1ace4844851e406d9150ee68f7593ec616aff"
   }
  }
 },
 "nbformat": 4,
 "nbformat_minor": 5
}
