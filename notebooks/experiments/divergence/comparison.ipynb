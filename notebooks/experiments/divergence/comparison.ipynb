{
 "cells": [
  {
   "attachments": {},
   "cell_type": "markdown",
   "id": "2aadd342-d77a-4212-9240-8befea4efd76",
   "metadata": {},
   "source": [
    "# Regularization comparison"
   ]
  },
  {
   "attachments": {},
   "cell_type": "markdown",
   "id": "73c38915-17d7-4b08-a15c-b0ea714ccfd7",
   "metadata": {},
   "source": [
    "#### Imports"
   ]
  },
  {
   "cell_type": "code",
   "execution_count": 1,
   "id": "3cae58c1-18be-4625-8ba7-86d15cab4693",
   "metadata": {},
   "outputs": [],
   "source": [
    "from abc import ABC, abstractmethod\n",
    "from itertools import pairwise\n",
    "\n",
    "import numpy as np\n",
    "import torch\n",
    "import torch.nn as nn\n",
    "import torch.nn.functional as F\n",
    "import torch.nn.utils.rnn as rnn\n",
    "import torch.optim as optim\n",
    "from kilroyplot.plot import plt\n",
    "from torch.distributions.categorical import Categorical\n",
    "import einops as ein"
   ]
  },
  {
   "attachments": {},
   "cell_type": "markdown",
   "id": "5bef5998",
   "metadata": {},
   "source": [
    "#### Configuration"
   ]
  },
  {
   "cell_type": "code",
   "execution_count": 2,
   "id": "95c67d10",
   "metadata": {},
   "outputs": [],
   "source": [
    "start_word, stop_word, pad_word = 1, 2, 0\n",
    "vocab_size = max(4, 10)\n",
    "max_length = 5\n",
    "embedding_dim, hidden_dim, out_dim = 16, 16, vocab_size\n",
    "epochs = 2000\n",
    "sample_size = 20\n",
    "n_times = 10"
   ]
  },
  {
   "attachments": {},
   "cell_type": "markdown",
   "id": "bf51320b",
   "metadata": {},
   "source": [
    "#### Seeding"
   ]
  },
  {
   "cell_type": "code",
   "execution_count": 3,
   "id": "96c1bf4a",
   "metadata": {},
   "outputs": [],
   "source": [
    "seed = 123\n",
    "torch.manual_seed(seed)\n",
    "np.random.seed(seed)"
   ]
  },
  {
   "attachments": {},
   "cell_type": "markdown",
   "id": "d400ed9f-921d-4d7b-99a1-383aaf6acbcf",
   "metadata": {},
   "source": [
    "#### Utilities"
   ]
  },
  {
   "cell_type": "code",
   "execution_count": 4,
   "id": "e62de55a-d80c-4b80-a3f6-23485410242a",
   "metadata": {},
   "outputs": [],
   "source": [
    "def squash_packed(x, fn):\n",
    "    return rnn.PackedSequence(\n",
    "        fn(x.data), x.batch_sizes, x.sorted_indices, x.unsorted_indices\n",
    "    )\n",
    "\n",
    "\n",
    "def unpad_sequence(x, lengths):\n",
    "    return [s[:length] for s, length in zip(x, lengths)]"
   ]
  },
  {
   "attachments": {},
   "cell_type": "markdown",
   "id": "9162abfa-2547-46ea-a24f-5df25f3fa310",
   "metadata": {},
   "source": [
    "#### Reward function"
   ]
  },
  {
   "cell_type": "code",
   "execution_count": 5,
   "id": "647e99dd",
   "metadata": {},
   "outputs": [],
   "source": [
    "class ZigzagRewardFunction:\n",
    "    def __init__(self, vocab_size, max_length):\n",
    "        self._vocab_size = vocab_size\n",
    "        self._max_length = max_length\n",
    "\n",
    "    def __call__(self, x):\n",
    "        maximum = (self._vocab_size - 1) * (self._max_length - 1)\n",
    "        return sum([np.abs(b - a) for a, b in pairwise(x)]) / maximum"
   ]
  },
  {
   "cell_type": "code",
   "execution_count": 6,
   "id": "192fb710",
   "metadata": {},
   "outputs": [],
   "source": [
    "reward_function = ZigzagRewardFunction(vocab_size, max_length)"
   ]
  },
  {
   "attachments": {},
   "cell_type": "markdown",
   "id": "8d5ec63e-3757-427d-af49-2c8a2e31d83e",
   "metadata": {},
   "source": [
    "#### Policy"
   ]
  },
  {
   "cell_type": "code",
   "execution_count": 7,
   "id": "ae2a9606-4d7e-41d4-8ba2-9b78c3ce9b2c",
   "metadata": {},
   "outputs": [],
   "source": [
    "class Policy(nn.Module):\n",
    "    def __init__(self, vocab_size, embedding_dim, hidden_dim, out_dim):\n",
    "        super().__init__()\n",
    "        self.embedding = nn.Embedding(vocab_size, embedding_dim)\n",
    "        self.lstm = nn.LSTM(embedding_dim, hidden_dim, batch_first=True)\n",
    "        self.linear = nn.Linear(hidden_dim, out_dim)\n",
    "\n",
    "    def forward(self, x):\n",
    "        is_packed = isinstance(x, rnn.PackedSequence)\n",
    "        x = (\n",
    "            squash_packed(x, self.embedding)\n",
    "            if is_packed\n",
    "            else self.embedding(x)\n",
    "        )\n",
    "        out, _ = self.lstm(x)\n",
    "        y = squash_packed(out, self.linear) if is_packed else self.linear(out)\n",
    "        return (\n",
    "            squash_packed(y, lambda yf: F.log_softmax(yf, dim=-1))\n",
    "            if is_packed\n",
    "            else F.log_softmax(y, dim=-1)\n",
    "        )"
   ]
  },
  {
   "cell_type": "code",
   "execution_count": 8,
   "id": "e1f1232d-429d-47d5-9b11-334f1c57c4ad",
   "metadata": {},
   "outputs": [],
   "source": [
    "class Generator:\n",
    "    def __init__(self, model, start_word, end_word, pad_word, max_length):\n",
    "        self.model = model\n",
    "        self.start_word = start_word\n",
    "        self.end_word = end_word\n",
    "        self.pad_word = pad_word\n",
    "        self.max_length = max_length\n",
    "\n",
    "    def generate(self, n=1):\n",
    "        out = []\n",
    "        x = torch.tensor([[self.start_word]] * n)\n",
    "        i = 1\n",
    "        while len(x) > 0 and i < self.max_length:\n",
    "            batched_logprobs = self.model(x)[:, -1]\n",
    "            next_words = self.pick_words(batched_logprobs)\n",
    "            x = torch.cat((x, next_words.unsqueeze(-1)), dim=-1)\n",
    "            finished_mask = next_words == self.end_word\n",
    "            finished = x[finished_mask]\n",
    "            out.extend(list(finished))\n",
    "            x = x[~finished_mask]\n",
    "            i += 1\n",
    "        out.extend(list(x))\n",
    "        out = sorted(out, key=lambda s: len(s), reverse=True)\n",
    "        lengths = [len(s) for s in out]\n",
    "        out = rnn.pad_sequence(\n",
    "            out, batch_first=True, padding_value=self.pad_word\n",
    "        )\n",
    "        return rnn.pack_padded_sequence(out, lengths, batch_first=True)\n",
    "\n",
    "    def pick_words(self, batched_logprobs):\n",
    "        return torch.tensor(\n",
    "            [\n",
    "                Categorical(logprobs.exp()).sample()\n",
    "                for logprobs in batched_logprobs\n",
    "            ]\n",
    "        )"
   ]
  },
  {
   "attachments": {},
   "cell_type": "markdown",
   "id": "290d54f9",
   "metadata": {},
   "source": [
    "#### Loss functions"
   ]
  },
  {
   "cell_type": "code",
   "execution_count": 9,
   "id": "ec3b7003",
   "metadata": {},
   "outputs": [],
   "source": [
    "class LossFunction(ABC):\n",
    "    @abstractmethod\n",
    "    def __call__(self, logprobs, sentences, rewards):\n",
    "        pass"
   ]
  },
  {
   "cell_type": "code",
   "execution_count": 10,
   "id": "014ed6c8",
   "metadata": {},
   "outputs": [],
   "source": [
    "class BaseLossFunction(LossFunction):\n",
    "    def __call__(self, logprobs, sentences, rewards):\n",
    "        sentences_padded, sentences_lengths = rnn.pad_packed_sequence(\n",
    "            sentences, batch_first=True\n",
    "        )\n",
    "        logprobs_padded, logprobs_lengths = rnn.pad_packed_sequence(\n",
    "            logprobs, batch_first=True\n",
    "        )\n",
    "        logprobs = [\n",
    "            torch.gather(p[:-1], -1, s[1:].unsqueeze(-1)).squeeze(-1)\n",
    "            for s, p in zip(\n",
    "                unpad_sequence(sentences_padded, sentences_lengths),\n",
    "                unpad_sequence(logprobs_padded, logprobs_lengths),\n",
    "            )\n",
    "        ]\n",
    "        loss = torch.cat([-(r * p.sum()) for p, r in zip(logprobs, rewards)])\n",
    "        return loss.mean()"
   ]
  },
  {
   "cell_type": "code",
   "execution_count": 11,
   "id": "749e0337",
   "metadata": {},
   "outputs": [],
   "source": [
    "class RewardRegularizedLossFunction(LossFunction):\n",
    "    def __init__(self, base, baseline, weight):\n",
    "        self._base = base\n",
    "        self._baseline_logprobs = baseline\n",
    "        self._weight = weight\n",
    "\n",
    "    def _modify_rewards(self, logprobs, sentences, rewards):\n",
    "        sentences_padded, sentences_lengths = rnn.pad_packed_sequence(\n",
    "            sentences, batch_first=True\n",
    "        )\n",
    "        logprobs_padded, logprobs_lengths = rnn.pad_packed_sequence(\n",
    "            logprobs, batch_first=True\n",
    "        )\n",
    "        divergences = torch.tensor(\n",
    "            [\n",
    "                torch.gather(\n",
    "                    p[:-1] - self._baseline_logprobs.repeat(len(p) - 1, 1),\n",
    "                    -1,\n",
    "                    s[1:].unsqueeze(-1),\n",
    "                )\n",
    "                .mean()\n",
    "                .item()\n",
    "                for s, p in zip(\n",
    "                    unpad_sequence(sentences_padded, sentences_lengths),\n",
    "                    unpad_sequence(logprobs_padded, logprobs_lengths),\n",
    "                )\n",
    "            ]\n",
    "        )\n",
    "        return rewards - self._weight * divergences.view(-1, 1)\n",
    "\n",
    "    def __call__(self, logprobs, sentences, rewards):\n",
    "        rewards = self._modify_rewards(logprobs, sentences, rewards)\n",
    "        return self._base(logprobs, sentences, rewards)"
   ]
  },
  {
   "cell_type": "code",
   "execution_count": 12,
   "id": "77009ced",
   "metadata": {},
   "outputs": [],
   "source": [
    "class LossRegularizedLossFunction(LossFunction):\n",
    "    def __init__(self, base, baseline, weight):\n",
    "        self._base = base\n",
    "        self._baseline_logprobs = baseline\n",
    "        self._weight = weight\n",
    "\n",
    "    def _calculate_divergence(self, logprobs):\n",
    "        input = logprobs.data\n",
    "        input = input.view(-1, input.size(-1))\n",
    "        target = self._baseline_logprobs.repeat(len(logprobs.data), 1)\n",
    "        target = target.view(-1, target.size(-1))\n",
    "\n",
    "        kld = F.kl_div(\n",
    "            input,\n",
    "            target,\n",
    "            reduction=\"none\",\n",
    "            log_target=True,\n",
    "        )\n",
    "        kld = kld.sum(dim=-1).clamp(min=0) / torch.tensor(2.0).log()\n",
    "        return kld\n",
    "\n",
    "    def __call__(self, logprobs, sentences, rewards):\n",
    "        base = self._base(logprobs, sentences, rewards)\n",
    "        divergence = self._calculate_divergence(logprobs)\n",
    "        return base + self._weight * divergence.mean()"
   ]
  },
  {
   "cell_type": "code",
   "execution_count": 13,
   "id": "3a6e5a08",
   "metadata": {},
   "outputs": [],
   "source": [
    "base_loss_function = BaseLossFunction()\n",
    "baseline = (torch.ones(vocab_size) / vocab_size).log()\n",
    "reward_regularized_loss_function = RewardRegularizedLossFunction(\n",
    "    base_loss_function, baseline, 0.3\n",
    ")\n",
    "loss_regularized_loss_function = LossRegularizedLossFunction(\n",
    "    base_loss_function, baseline, 0.3\n",
    ")"
   ]
  },
  {
   "attachments": {},
   "cell_type": "markdown",
   "id": "bacd420d-4218-49df-ade7-4d44beb7bd0d",
   "metadata": {},
   "source": [
    "#### Training"
   ]
  },
  {
   "cell_type": "code",
   "execution_count": 14,
   "id": "4dbd94fb-8ccf-44c8-b229-e1848e7d1ae7",
   "metadata": {},
   "outputs": [],
   "source": [
    "def train_iteration(\n",
    "    policy,\n",
    "    generator,\n",
    "    sample_size,\n",
    "    optimizer,\n",
    "    reward_function,\n",
    "    loss_function,\n",
    "    pad_word,\n",
    "):\n",
    "    optimizer.zero_grad()\n",
    "    sentences = generator.generate(sample_size)\n",
    "    padded_sentences, lengths = rnn.pad_packed_sequence(\n",
    "        sentences, batch_first=True, padding_value=pad_word\n",
    "    )\n",
    "    rewards = (\n",
    "        torch.tensor(\n",
    "            [\n",
    "                reward_function(s.tolist())\n",
    "                for s in unpad_sequence(padded_sentences, lengths)\n",
    "            ]\n",
    "        )\n",
    "        .unsqueeze(-1)\n",
    "        .float()\n",
    "    )\n",
    "    logprobs = policy(sentences)\n",
    "    loss = loss_function(logprobs, sentences, rewards)\n",
    "    loss.backward()\n",
    "    optimizer.step()\n",
    "    return loss.item(), rewards.mean().item()"
   ]
  },
  {
   "cell_type": "code",
   "execution_count": 15,
   "id": "01006142",
   "metadata": {},
   "outputs": [],
   "source": [
    "def train(\n",
    "    policy,\n",
    "    generator,\n",
    "    epochs,\n",
    "    sample_size,\n",
    "    optimizer,\n",
    "    reward_function,\n",
    "    loss_function,\n",
    "    pad_word,\n",
    "):\n",
    "    losses, rewards = [], []\n",
    "    for i in range(epochs):\n",
    "        loss, reward = train_iteration(\n",
    "            policy,\n",
    "            generator,\n",
    "            sample_size,\n",
    "            optimizer,\n",
    "            reward_function,\n",
    "            loss_function,\n",
    "            pad_word,\n",
    "        )\n",
    "        losses.append(loss)\n",
    "        rewards.append(reward)\n",
    "    return torch.tensor(losses), torch.tensor(rewards)"
   ]
  },
  {
   "cell_type": "code",
   "execution_count": 16,
   "id": "919a630a",
   "metadata": {},
   "outputs": [],
   "source": [
    "def run(\n",
    "    n_times,\n",
    "    vocab_size,\n",
    "    embedding_dim,\n",
    "    hidden_dim,\n",
    "    out_dim,\n",
    "    start_word,\n",
    "    stop_word,\n",
    "    pad_word,\n",
    "    max_length,\n",
    "    epochs,\n",
    "    sample_size,\n",
    "    lr,\n",
    "    reward_function,\n",
    "    loss_function,\n",
    "):\n",
    "    rewards = []\n",
    "    for i in range(n_times):\n",
    "        policy = Policy(vocab_size, embedding_dim, hidden_dim, out_dim)\n",
    "        generator = Generator(\n",
    "            policy, start_word, stop_word, pad_word, max_length\n",
    "        )\n",
    "        optimizer = optim.SGD(policy.parameters(), lr=lr)\n",
    "        _, r = train(\n",
    "            policy,\n",
    "            generator,\n",
    "            epochs,\n",
    "            sample_size,\n",
    "            optimizer,\n",
    "            reward_function,\n",
    "            loss_function,\n",
    "            pad_word,\n",
    "        )\n",
    "        rewards.append(r)\n",
    "    return torch.stack(rewards)"
   ]
  },
  {
   "cell_type": "code",
   "execution_count": 17,
   "id": "40469a5b-ad22-4d3d-b534-c9b28e9d5329",
   "metadata": {
    "tags": []
   },
   "outputs": [],
   "source": [
    "rewards_base = run(\n",
    "    n_times=n_times,\n",
    "    vocab_size=vocab_size,\n",
    "    embedding_dim=embedding_dim,\n",
    "    hidden_dim=hidden_dim,\n",
    "    out_dim=out_dim,\n",
    "    start_word=start_word,\n",
    "    stop_word=stop_word,\n",
    "    pad_word=pad_word,\n",
    "    max_length=max_length,\n",
    "    epochs=epochs,\n",
    "    sample_size=sample_size,\n",
    "    lr=0.1,\n",
    "    reward_function=reward_function,\n",
    "    loss_function=base_loss_function,\n",
    ")"
   ]
  },
  {
   "cell_type": "code",
   "execution_count": 18,
   "id": "7d6f6719",
   "metadata": {},
   "outputs": [],
   "source": [
    "rewards_reward_regularized = run(\n",
    "    n_times=n_times,\n",
    "    vocab_size=vocab_size,\n",
    "    embedding_dim=embedding_dim,\n",
    "    hidden_dim=hidden_dim,\n",
    "    out_dim=out_dim,\n",
    "    start_word=start_word,\n",
    "    stop_word=stop_word,\n",
    "    pad_word=pad_word,\n",
    "    max_length=max_length,\n",
    "    epochs=epochs,\n",
    "    sample_size=sample_size,\n",
    "    lr=0.2,\n",
    "    reward_function=reward_function,\n",
    "    loss_function=reward_regularized_loss_function,\n",
    ")"
   ]
  },
  {
   "cell_type": "code",
   "execution_count": 19,
   "id": "15914ea6",
   "metadata": {},
   "outputs": [],
   "source": [
    "rewards_loss_regularized = run(\n",
    "    n_times=n_times,\n",
    "    vocab_size=vocab_size,\n",
    "    embedding_dim=embedding_dim,\n",
    "    hidden_dim=hidden_dim,\n",
    "    out_dim=out_dim,\n",
    "    start_word=start_word,\n",
    "    stop_word=stop_word,\n",
    "    pad_word=pad_word,\n",
    "    max_length=max_length,\n",
    "    epochs=epochs,\n",
    "    sample_size=sample_size,\n",
    "    lr=0.2,\n",
    "    reward_function=reward_function,\n",
    "    loss_function=loss_regularized_loss_function,\n",
    ")"
   ]
  },
  {
   "attachments": {},
   "cell_type": "markdown",
   "id": "0601da1a-5b71-4a5c-b9ee-12147c577444",
   "metadata": {},
   "source": [
    "#### Results"
   ]
  },
  {
   "cell_type": "code",
   "execution_count": 20,
   "id": "0b64381e",
   "metadata": {},
   "outputs": [],
   "source": [
    "def plot_rewards(\n",
    "    rewards, label, x_label=\"Iteration\", y_label=\"Reward\", alpha=0.5\n",
    "):\n",
    "    rewards = ein.rearrange(rewards, \"n t -> t n\")\n",
    "    median = rewards.median(dim=1).values\n",
    "    lower, upper = np.percentile(rewards, [25, 75], axis=1)\n",
    "    plt.plot(median, label=label)\n",
    "    plt.fill_between(range(len(median)), lower, upper, alpha=alpha)\n",
    "    plt.xlabel(x_label)\n",
    "    plt.ylabel(y_label)\n",
    "    plt.legend()"
   ]
  },
  {
   "cell_type": "code",
   "execution_count": 21,
   "id": "6a9be49d-1f5b-4a6c-8982-e976eac3507b",
   "metadata": {},
   "outputs": [
    {
     "data": {
      "image/png": "[encoded data removed]",
      "text/plain": [
       "<Figure size 720x495 with 1 Axes>"
      ]
     },
     "metadata": {},
     "output_type": "display_data"
    }
   ],
   "source": [
    "plot_rewards(rewards_base, \"Base\")\n",
    "plot_rewards(rewards_reward_regularized, \"Reward Regularized\")\n",
    "plot_rewards(rewards_loss_regularized, \"Loss Regularized\")"
   ]
  }
 ],
 "metadata": {
  "kernelspec": {
   "display_name": "kilroy-research",
   "language": "python",
   "name": "python3"
  },
  "language_info": {
   "codemirror_mode": {
    "name": "ipython",
    "version": 3
   },
   "file_extension": ".py",
   "mimetype": "text/x-python",
   "name": "python",
   "nbconvert_exporter": "python",
   "pygments_lexer": "ipython3",
   "version": "3.10.6"
  },
  "vscode": {
   "interpreter": {
    "hash": "ae8086c63e5d39b6c382cbbffde1ace4844851e406d9150ee68f7593ec616aff"
   }
  }
 },
 "nbformat": 4,
 "nbformat_minor": 5
}
