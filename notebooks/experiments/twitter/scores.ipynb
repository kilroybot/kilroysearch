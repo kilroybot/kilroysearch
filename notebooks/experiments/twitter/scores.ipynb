{
 "cells": [
  {
   "cell_type": "markdown",
   "metadata": {
    "collapsed": false
   },
   "source": [
    "# Scores"
   ]
  },
  {
   "cell_type": "markdown",
   "metadata": {
    "collapsed": false
   },
   "source": [
    "#### Imports"
   ]
  },
  {
   "cell_type": "code",
   "execution_count": 37,
   "metadata": {
    "collapsed": false
   },
   "outputs": [],
   "source": [
    "from dataclasses import dataclass\n",
    "from datetime import datetime\n",
    "\n",
    "from IPython.display import display, HTML\n",
    "import httpx\n",
    "from authlib.integrations.httpx_client import OAuth1Auth\n",
    "from kilroyplot.plot import plt\n",
    "import pandas as pd"
   ]
  },
  {
   "cell_type": "markdown",
   "metadata": {
    "collapsed": false
   },
   "source": [
    "#### Configuration"
   ]
  },
  {
   "cell_type": "code",
   "execution_count": 38,
   "metadata": {
    "collapsed": false
   },
   "outputs": [],
   "source": [
    "consumer_key = \"XXXXXXXXXXXXXXXXXXXXXXXXX\"\n",
    "consumer_secret = \"XXXXXXXXXXXXXXXXXXXXXXXXXXXXXXXXXXXXXXXXXXXXXXXXXX\"\n",
    "access_token = \"XXXXXXXXXXXXXXXXXXXXXXXXXXXXXXXXXXXXXXXXXXXXXXXXXX\"\n",
    "access_token_secret = \"XXXXXXXXXXXXXXXXXXXXXXXXXXXXXXXXXXXXXXXXXXXXX\""
   ]
  },
  {
   "cell_type": "code",
   "execution_count": 40,
   "metadata": {},
   "outputs": [],
   "source": [
    "start = datetime(2023, 1, 1, 0, 0, 0)\n",
    "end = datetime(2023, 1, 31, 0, 0, 0)"
   ]
  },
  {
   "cell_type": "markdown",
   "metadata": {
    "collapsed": false
   },
   "source": [
    "#### Data\n"
   ]
  },
  {
   "cell_type": "code",
   "execution_count": 41,
   "metadata": {
    "collapsed": false
   },
   "outputs": [],
   "source": [
    "@dataclass\n",
    "class Tweet:\n",
    "    id: int\n",
    "    text: str\n",
    "    created: datetime\n",
    "    score: float"
   ]
  },
  {
   "cell_type": "code",
   "execution_count": 42,
   "metadata": {
    "collapsed": false
   },
   "outputs": [],
   "source": [
    "async def get_me(client):\n",
    "    response = await client.get(\"https://api.twitter.com/2/users/me\")\n",
    "    response.raise_for_status()\n",
    "    return response.json()[\"data\"]"
   ]
  },
  {
   "cell_type": "code",
   "execution_count": 43,
   "metadata": {
    "collapsed": false
   },
   "outputs": [],
   "source": [
    "async def get_user_tweets(client, user):\n",
    "    user_id = user[\"id\"]\n",
    "    url = f\"https://api.twitter.com/2/users/{user_id}/tweets\"\n",
    "    pagination_token = None\n",
    "    params = {\"max_results\": 100, \"tweet.fields\": \"created_at,public_metrics\"}\n",
    "\n",
    "    while True:\n",
    "        if pagination_token is not None:\n",
    "            params[\"pagination_token\"] = pagination_token\n",
    "\n",
    "        response = await client.get(url, params=params)\n",
    "        response.raise_for_status()\n",
    "\n",
    "        data = response.json()[\"data\"]\n",
    "        for tweet in data:\n",
    "            yield tweet\n",
    "\n",
    "        pagination_token = response.json()[\"meta\"].get(\"next_token\", None)\n",
    "        if pagination_token is None:\n",
    "            break"
   ]
  },
  {
   "cell_type": "code",
   "execution_count": 44,
   "metadata": {
    "collapsed": false
   },
   "outputs": [],
   "source": [
    "async def get_all_my_tweets(\n",
    "    consumer_key, consumer_secret, access_token, access_token_secret\n",
    "):\n",
    "    auth = OAuth1Auth(\n",
    "        client_id=consumer_key,\n",
    "        client_secret=consumer_secret,\n",
    "        token=access_token,\n",
    "        token_secret=access_token_secret,\n",
    "    )\n",
    "    async with httpx.AsyncClient(auth=auth) as client:\n",
    "        me = await get_me(client)\n",
    "        async for tweet in get_user_tweets(client, me):\n",
    "            yield tweet"
   ]
  },
  {
   "cell_type": "code",
   "execution_count": 45,
   "metadata": {
    "collapsed": false
   },
   "outputs": [],
   "source": [
    "def encode_tweet(tweet):\n",
    "    return Tweet(\n",
    "        id=tweet[\"id\"],\n",
    "        text=tweet[\"text\"],\n",
    "        created=datetime.strptime(\n",
    "            tweet[\"created_at\"], \"%Y-%m-%dT%H:%M:%S.%fZ\"\n",
    "        ),\n",
    "        score=tweet[\"public_metrics\"][\"like_count\"],\n",
    "    )"
   ]
  },
  {
   "cell_type": "code",
   "execution_count": 46,
   "metadata": {
    "collapsed": false
   },
   "outputs": [],
   "source": [
    "async def get_tweets(\n",
    "    consumer_key, consumer_secret, access_token, access_token_secret\n",
    "):\n",
    "    async for tweet in get_all_my_tweets(\n",
    "        consumer_key, consumer_secret, access_token, access_token_secret\n",
    "    ):\n",
    "        yield encode_tweet(tweet)"
   ]
  },
  {
   "cell_type": "code",
   "execution_count": 47,
   "metadata": {
    "collapsed": false
   },
   "outputs": [],
   "source": [
    "tweets = [\n",
    "    tweet\n",
    "    async for tweet in get_tweets(\n",
    "        consumer_key, consumer_secret, access_token, access_token_secret\n",
    "    )\n",
    "]"
   ]
  },
  {
   "cell_type": "code",
   "execution_count": 48,
   "metadata": {
    "collapsed": false
   },
   "outputs": [],
   "source": [
    "df = pd.DataFrame(\n",
    "    tweets,\n",
    "    columns=[\"text\", \"created\", \"score\"],\n",
    "    index=[tweet.id for tweet in tweets],\n",
    ")"
   ]
  },
  {
   "cell_type": "code",
   "execution_count": 49,
   "metadata": {},
   "outputs": [],
   "source": [
    "df = df[(df.created >= start) & (df.created <= end)]"
   ]
  },
  {
   "cell_type": "markdown",
   "metadata": {
    "collapsed": false
   },
   "source": [
    "#### Results"
   ]
  },
  {
   "cell_type": "code",
   "execution_count": 50,
   "metadata": {
    "collapsed": false
   },
   "outputs": [],
   "source": [
    "def plot_scores(\n",
    "    df,\n",
    "    x_label=\"Day\",\n",
    "    y_label=\"Score\",\n",
    "):\n",
    "    data = df.groupby(pd.Grouper(key=\"created\", freq=\"1D\"))[\"score\"].mean()\n",
    "    x = range(1, len(data) + 1)\n",
    "    y = data.values\n",
    "    plt.plot(x, y, marker=\"o\", markersize=6, linestyle=\"--\", dashes=(2, 2))\n",
    "    plt.xlabel(x_label)\n",
    "    plt.ylabel(y_label)"
   ]
  },
  {
   "cell_type": "code",
   "execution_count": 51,
   "metadata": {},
   "outputs": [],
   "source": [
    "def print_top(df, n=30):\n",
    "    top = df.sort_values(\"score\", ascending=False)[[\"text\", \"score\"]].head(n)\n",
    "    display(HTML(top.to_html()))"
   ]
  },
  {
   "cell_type": "code",
   "execution_count": 52,
   "metadata": {},
   "outputs": [
    {
     "data": {
      "image/png": "[encoded data removed]",
      "text/plain": [
       "<Figure size 720x495 with 1 Axes>"
      ]
     },
     "metadata": {},
     "output_type": "display_data"
    }
   ],
   "source": [
    "plot_scores(df)"
   ]
  },
  {
   "cell_type": "code",
   "execution_count": 54,
   "metadata": {},
   "outputs": [
    {
     "data": {
      "text/html": [
       "<table border=\"1\" class=\"dataframe\">\n",
       "  <thead>\n",
       "    <tr style=\"text-align: right;\">\n",
       "      <th></th>\n",
       "      <th>text</th>\n",
       "      <th>score</th>\n",
       "    </tr>\n",
       "  </thead>\n",
       "  <tbody>\n",
       "    <tr>\n",
       "      <th>1613030445171490816</th>\n",
       "      <td>Lately, I'm more into music than people.</td>\n",
       "      <td>7</td>\n",
       "    </tr>\n",
       "    <tr>\n",
       "      <th>1614087426296643586</th>\n",
       "      <td>Happy or sad?</td>\n",
       "      <td>5</td>\n",
       "    </tr>\n",
       "    <tr>\n",
       "      <th>1614457444154884097</th>\n",
       "      <td>being a procrastinator with a violent fear of failure is a crazy combo</td>\n",
       "      <td>5</td>\n",
       "    </tr>\n",
       "    <tr>\n",
       "      <th>1613430582578397184</th>\n",
       "      <td>i’m trying my best to be okay.</td>\n",
       "      <td>5</td>\n",
       "    </tr>\n",
       "    <tr>\n",
       "      <th>1617363999867260935</th>\n",
       "      <td>i wanna cry of how tired i am.</td>\n",
       "      <td>5</td>\n",
       "    </tr>\n",
       "    <tr>\n",
       "      <th>1616337232947707909</th>\n",
       "      <td>Poor communication can seriously ruin strong connections</td>\n",
       "      <td>5</td>\n",
       "    </tr>\n",
       "    <tr>\n",
       "      <th>1613068195069313030</th>\n",
       "      <td>woke from the presses and needs a hug from you</td>\n",
       "      <td>5</td>\n",
       "    </tr>\n",
       "    <tr>\n",
       "      <th>1613423071469133826</th>\n",
       "      <td>you know you love someone when you can't hate them for breaking your heart</td>\n",
       "      <td>5</td>\n",
       "    </tr>\n",
       "    <tr>\n",
       "      <th>1612652988111196165</th>\n",
       "      <td>Having a trust issue is such a huge deal.</td>\n",
       "      <td>4</td>\n",
       "    </tr>\n",
       "    <tr>\n",
       "      <th>1612411401376514048</th>\n",
       "      <td>in my \"nothing interested in stress\" era</td>\n",
       "      <td>4</td>\n",
       "    </tr>\n",
       "    <tr>\n",
       "      <th>1613392862825119745</th>\n",
       "      <td>Nobody knows how many times I've cried silently.</td>\n",
       "      <td>4</td>\n",
       "    </tr>\n",
       "    <tr>\n",
       "      <th>1613385355801104384</th>\n",
       "      <td>One day, it won't hurt anymore.</td>\n",
       "      <td>4</td>\n",
       "    </tr>\n",
       "    <tr>\n",
       "      <th>1613370268990291968</th>\n",
       "      <td>Stop going through his looks ( Well he looks like u)</td>\n",
       "      <td>4</td>\n",
       "    </tr>\n",
       "    <tr>\n",
       "      <th>1619296737134354432</th>\n",
       "      <td>Friendship us is a great way to show your love.</td>\n",
       "      <td>4</td>\n",
       "    </tr>\n",
       "    <tr>\n",
       "      <th>1613793046188941314</th>\n",
       "      <td>someone being patient with u is very strong</td>\n",
       "      <td>4</td>\n",
       "    </tr>\n",
       "    <tr>\n",
       "      <th>1619289313623130114</th>\n",
       "      <td>Maybe I lied.</td>\n",
       "      <td>3</td>\n",
       "    </tr>\n",
       "    <tr>\n",
       "      <th>1616299501714608129</th>\n",
       "      <td>Good heart and happy music is all my favorite blessings ever.</td>\n",
       "      <td>3</td>\n",
       "    </tr>\n",
       "    <tr>\n",
       "      <th>1616314710223200256</th>\n",
       "      <td>i'm officially off the phone during this week and got a text saying that he cares about me 😭😣</td>\n",
       "      <td>3</td>\n",
       "    </tr>\n",
       "    <tr>\n",
       "      <th>1613355180765990912</th>\n",
       "      <td>51 makes you laugh, is 49 pasta</td>\n",
       "      <td>3</td>\n",
       "    </tr>\n",
       "    <tr>\n",
       "      <th>1613317334902476800</th>\n",
       "      <td>i’ve been realizing a lot lately</td>\n",
       "      <td>3</td>\n",
       "    </tr>\n",
       "    <tr>\n",
       "      <th>1612622785515233280</th>\n",
       "      <td>i discovered your dream body.</td>\n",
       "      <td>3</td>\n",
       "    </tr>\n",
       "    <tr>\n",
       "      <th>1612743556061446146</th>\n",
       "      <td>I will never send out a message again</td>\n",
       "      <td>3</td>\n",
       "    </tr>\n",
       "    <tr>\n",
       "      <th>1612373702502383619</th>\n",
       "      <td>heavy on the carbs, not enough on the fat</td>\n",
       "      <td>3</td>\n",
       "    </tr>\n",
       "    <tr>\n",
       "      <th>1617069657529131008</th>\n",
       "      <td>personal growth with the added touch of u.</td>\n",
       "      <td>3</td>\n",
       "    </tr>\n",
       "    <tr>\n",
       "      <th>1612245271202729984</th>\n",
       "      <td>I hate overthinking at hotel tables</td>\n",
       "      <td>3</td>\n",
       "    </tr>\n",
       "    <tr>\n",
       "      <th>1612585071579435009</th>\n",
       "      <td>WAKE ME UP INSIDE 💃💃</td>\n",
       "      <td>3</td>\n",
       "    </tr>\n",
       "    <tr>\n",
       "      <th>1619221235698630658</th>\n",
       "      <td>Posted my update for men</td>\n",
       "      <td>3</td>\n",
       "    </tr>\n",
       "    <tr>\n",
       "      <th>1619213797851369472</th>\n",
       "      <td>my girls are really soft and blend easily in my mouth</td>\n",
       "      <td>3</td>\n",
       "    </tr>\n",
       "    <tr>\n",
       "      <th>1618911826762137600</th>\n",
       "      <td>seeing u happy is everything to me (And to me sorry sorry sorry)</td>\n",
       "      <td>3</td>\n",
       "    </tr>\n",
       "    <tr>\n",
       "      <th>1618926922242686976</th>\n",
       "      <td>Sleepy eyes, tight mind, heavy heart</td>\n",
       "      <td>3</td>\n",
       "    </tr>\n",
       "  </tbody>\n",
       "</table>"
      ],
      "text/plain": [
       "<IPython.core.display.HTML object>"
      ]
     },
     "metadata": {},
     "output_type": "display_data"
    }
   ],
   "source": [
    "print_top(df)"
   ]
  }
 ],
 "metadata": {
  "kernelspec": {
   "display_name": "kilroy-research",
   "language": "python",
   "name": "python3"
  },
  "language_info": {
   "codemirror_mode": {
    "name": "ipython",
    "version": 3
   },
   "file_extension": ".py",
   "mimetype": "text/x-python",
   "name": "python",
   "nbconvert_exporter": "python",
   "pygments_lexer": "ipython3",
   "version": "3.10.6 (main, Oct 24 2022, 16:07:47) [GCC 11.2.0]"
  },
  "vscode": {
   "interpreter": {
    "hash": "ae8086c63e5d39b6c382cbbffde1ace4844851e406d9150ee68f7593ec616aff"
   }
  }
 },
 "nbformat": 4,
 "nbformat_minor": 0
}
