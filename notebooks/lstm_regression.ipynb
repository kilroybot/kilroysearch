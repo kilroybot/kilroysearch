{
 "cells": [
  {
   "cell_type": "markdown",
   "id": "4dab87e8-9f07-40c8-bfaa-9e5f99691bbf",
   "metadata": {},
   "source": [
    "# LSTM - Regression"
   ]
  },
  {
   "cell_type": "markdown",
   "id": "e3e14918-91dd-4dfa-801d-6c3c5bb949da",
   "metadata": {},
   "source": [
    "##### Imports"
   ]
  },
  {
   "cell_type": "code",
   "execution_count": 1,
   "id": "103ae837-11d7-499b-bb7b-09621e4dcda0",
   "metadata": {},
   "outputs": [],
   "source": [
    "import numpy as np\n",
    "import torch\n",
    "import torch.nn as nn\n",
    "import torch.nn.functional as F\n",
    "import torch.optim as optim\n",
    "from tqdm import tqdm\n",
    "from torch.utils.data import TensorDataset, DataLoader\n",
    "from kilroyplot.plot import plt"
   ]
  },
  {
   "cell_type": "markdown",
   "id": "a640dcff-5a50-471b-a8c1-171584393951",
   "metadata": {},
   "source": [
    "## Model"
   ]
  },
  {
   "cell_type": "code",
   "execution_count": 2,
   "id": "c65fb6a3-dfad-4b85-a95b-18c5c44b4094",
   "metadata": {},
   "outputs": [],
   "source": [
    "class RegressionLSTM(nn.Module):\n",
    "    \"\"\"LSTM regressor. Takes sequence of vectors, outputs a scalar.\"\"\"\n",
    "    \n",
    "    def __init__(self, in_dim, hidden_dim):\n",
    "        super().__init__()\n",
    "        self.lstm = nn.LSTM(in_dim, hidden_dim, batch_first=True)\n",
    "        self.linear = nn.Linear(hidden_dim, 1)\n",
    "\n",
    "    def forward(self, x):\n",
    "        _, (ht, _) = self.lstm(x)\n",
    "        return self.linear(ht[-1])"
   ]
  },
  {
   "cell_type": "markdown",
   "id": "c1b4e4e0-2df9-4dcf-a05a-346df1ec819a",
   "metadata": {},
   "source": [
    "## Data\n",
    "\n",
    "Half is sequence of ten vectors with numbers sampled from $N(-10, 1)$ and $10$ as target, second half is sequence of ten vectors with numbers sampled from $N(10, 1)$ and $-10$ as target."
   ]
  },
  {
   "cell_type": "code",
   "execution_count": 3,
   "id": "90d418b4-5e77-4e5e-bcdf-fb9099202bb9",
   "metadata": {},
   "outputs": [],
   "source": [
    "in_dim, hidden_dim = 1, 16"
   ]
  },
  {
   "cell_type": "code",
   "execution_count": 4,
   "id": "bcac8f1c-7198-4172-81f6-c3d603ae4a10",
   "metadata": {},
   "outputs": [],
   "source": [
    "x_good, y_good = torch.normal(-10, 1, size=(1000, 10, in_dim)), torch.normal(10, 1, size=(1000, 1))\n",
    "x_bad, y_bad = torch.normal(10, 1, size=(1000, 10, in_dim)), torch.normal(-10, 1, size=(1000, 1))\n",
    "\n",
    "x, y = torch.cat([x_good, x_bad]), torch.cat([y_good, y_bad])\n",
    "\n",
    "dataloader = DataLoader(TensorDataset(x,y), shuffle=True, batch_size=16)"
   ]
  },
  {
   "cell_type": "markdown",
   "id": "be13c707-4a8c-4f2a-b347-1cd1ce6641d9",
   "metadata": {},
   "source": [
    "## Learning\n",
    "\n",
    "Simple supervised learning using $x$ and $y$ from datasets"
   ]
  },
  {
   "cell_type": "code",
   "execution_count": 5,
   "id": "f9030904-5ed3-48df-aaf7-60662de0a5e0",
   "metadata": {},
   "outputs": [],
   "source": [
    "model = RegressionLSTM(in_dim, hidden_dim)"
   ]
  },
  {
   "cell_type": "code",
   "execution_count": 6,
   "id": "9f3274b7-a94b-4313-b645-70e03f217def",
   "metadata": {},
   "outputs": [],
   "source": [
    "optimizer = optim.Adam(model.parameters(), lr=0.0001)"
   ]
  },
  {
   "cell_type": "code",
   "execution_count": 7,
   "id": "3f0c6bb8-f059-4ffd-b181-01433f6461a0",
   "metadata": {},
   "outputs": [],
   "source": [
    "criterion = nn.MSELoss()"
   ]
  },
  {
   "cell_type": "code",
   "execution_count": 8,
   "id": "c702cb94-a281-41c5-8a9b-be200da5cb92",
   "metadata": {},
   "outputs": [],
   "source": [
    "epochs = 100"
   ]
  },
  {
   "cell_type": "code",
   "execution_count": 9,
   "id": "6087fa02-24e7-49eb-9d4a-b9363445adeb",
   "metadata": {
    "tags": []
   },
   "outputs": [
    {
     "name": "stderr",
     "output_type": "stream",
     "text": [
      "100%|██████████| 100/100 [00:54<00:00,  1.83it/s]\n"
     ]
    }
   ],
   "source": [
    "losses = []\n",
    "for _ in tqdm(range(epochs)):\n",
    "    epoch_losses = []\n",
    "    for x, y_true in dataloader:\n",
    "        optimizer.zero_grad()\n",
    "        y_pred = model(x)\n",
    "        loss = criterion(y_pred, y_true)\n",
    "        epoch_losses.append(loss.item())\n",
    "        loss.backward()\n",
    "        optimizer.step()\n",
    "    losses.append(np.mean(epoch_losses))"
   ]
  },
  {
   "cell_type": "markdown",
   "id": "13554784-ebba-436c-9d0b-dabed7d60ecc",
   "metadata": {},
   "source": [
    "## Results"
   ]
  },
  {
   "cell_type": "code",
   "execution_count": 10,
   "id": "23f6afa0-a4c4-4396-bcec-e123b0994f42",
   "metadata": {
    "tags": []
   },
   "outputs": [
    {
     "data": {
      "text/plain": [
       "Text(0, 0.5, 'loss')"
      ]
     },
     "execution_count": 10,
     "metadata": {},
     "output_type": "execute_result"
    },
    {
     "data": {
      "image/png": "[encoded data removed]",
      "text/plain": [
       "<Figure size 720x495 with 1 Axes>"
      ]
     },
     "metadata": {},
     "output_type": "display_data"
    }
   ],
   "source": [
    "plt.plot(losses)\n",
    "plt.title(\"Loss curve\")\n",
    "plt.xlabel(\"epoch\")\n",
    "plt.ylabel(\"loss\")"
   ]
  },
  {
   "cell_type": "code",
   "execution_count": 11,
   "id": "e11a4efc-61e6-470d-9386-a56c19982d27",
   "metadata": {},
   "outputs": [
    {
     "data": {
      "text/plain": [
       "(tensor(10.0184), tensor(10.0240))"
      ]
     },
     "execution_count": 11,
     "metadata": {},
     "output_type": "execute_result"
    }
   ],
   "source": [
    "y_good.mean(), model(x_good).detach().mean()"
   ]
  },
  {
   "cell_type": "code",
   "execution_count": 12,
   "id": "922979e2-31bb-40da-903c-b7f2f2b669f6",
   "metadata": {},
   "outputs": [
    {
     "data": {
      "text/plain": [
       "(tensor(-9.9977), tensor(-9.9957))"
      ]
     },
     "execution_count": 12,
     "metadata": {},
     "output_type": "execute_result"
    }
   ],
   "source": [
    "y_bad.mean(), model(x_bad).detach().mean()"
   ]
  }
 ],
 "metadata": {
  "kernelspec": {
   "display_name": "Python 3 (ipykernel)",
   "language": "python",
   "name": "python3"
  },
  "language_info": {
   "codemirror_mode": {
    "name": "ipython",
    "version": 3
   },
   "file_extension": ".py",
   "mimetype": "text/x-python",
   "name": "python",
   "nbconvert_exporter": "python",
   "pygments_lexer": "ipython3",
   "version": "3.9.7"
  }
 },
 "nbformat": 4,
 "nbformat_minor": 5
}
