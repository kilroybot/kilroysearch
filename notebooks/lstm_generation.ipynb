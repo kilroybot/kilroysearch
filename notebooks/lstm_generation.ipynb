{
 "cells": [
  {
   "cell_type": "markdown",
   "id": "62cf8a92-9cbe-4cce-8916-140b60ab81cd",
   "metadata": {},
   "source": [
    "# LSTM - Generation"
   ]
  },
  {
   "cell_type": "markdown",
   "id": "74d5cf35-2b18-4971-9b38-885e87efd6fc",
   "metadata": {},
   "source": [
    "##### Imports"
   ]
  },
  {
   "cell_type": "code",
   "execution_count": 1,
   "id": "103ae837-11d7-499b-bb7b-09621e4dcda0",
   "metadata": {},
   "outputs": [],
   "source": [
    "import numpy as np\n",
    "import einops as ein\n",
    "import torch\n",
    "import torch.nn as nn\n",
    "import torch.nn.functional as F\n",
    "import torch.optim as optim\n",
    "from tqdm import tqdm\n",
    "from torch.utils.data import TensorDataset, Dataset, DataLoader\n",
    "from torch.distributions.categorical import Categorical\n",
    "from kilroyplot.plot import plt"
   ]
  },
  {
   "cell_type": "markdown",
   "id": "1360aac0-0efc-4a7a-99aa-f129d0cda0ed",
   "metadata": {},
   "source": [
    "## Model"
   ]
  },
  {
   "cell_type": "code",
   "execution_count": 2,
   "id": "c65fb6a3-dfad-4b85-a95b-18c5c44b4094",
   "metadata": {},
   "outputs": [],
   "source": [
    "class LSTMSentenceClassifier(nn.Module):\n",
    "    \"\"\"LSTM generator. Takes sequence of words, outputs probabilities of next word for each word in the sequence.\"\"\"\n",
    "    \n",
    "    def __init__(self, vocab_size, embedding_dim, hidden_dim, out_dim):\n",
    "        super().__init__()\n",
    "        self.embedding = nn.Embedding(vocab_size, embedding_dim)\n",
    "        self.lstm = nn.LSTM(embedding_dim, hidden_dim, batch_first=True)\n",
    "        self.linear = nn.Linear(hidden_dim, out_dim)\n",
    "\n",
    "    def forward(self, x):\n",
    "        x = self.embedding(x)\n",
    "        out, _ = self.lstm(x)\n",
    "        y = self.linear(out)\n",
    "        return F.softmax(y, dim=-1)"
   ]
  },
  {
   "cell_type": "markdown",
   "id": "cf0a8a2b-d959-4ee4-9a2d-14006e34a7ac",
   "metadata": {},
   "source": [
    "## Data\n",
    "\n",
    "Dataset of next words in a sequence with $0$ as start word and $1$ as end token, for example: $[0, 2, 3, 4, 5, 6] \\to [2, 3, 4, 5, 6, 1]$"
   ]
  },
  {
   "cell_type": "code",
   "execution_count": 3,
   "id": "a4d5628a-3395-4ff6-8d79-bf63fbfce894",
   "metadata": {},
   "outputs": [],
   "source": [
    "class NextWordDataset(Dataset):\n",
    "    def __init__(self, sentences):\n",
    "        super().__init__()\n",
    "        self.next_words = [\n",
    "            (sentence[:-1], sentence[1:])\n",
    "            for sentence in sentences\n",
    "        ]\n",
    "\n",
    "    def __getitem__(self, index):\n",
    "        return self.next_words[index]\n",
    "\n",
    "    def __len__(self):\n",
    "        return len(self.next_words)"
   ]
  },
  {
   "cell_type": "code",
   "execution_count": 4,
   "id": "d69e8852-2d26-469e-b89e-2887a59f03d8",
   "metadata": {},
   "outputs": [],
   "source": [
    "n_words = 5\n",
    "special_words = {\n",
    "    \"start\": 0,\n",
    "    \"end\": 1\n",
    "}\n",
    "n_special_words = len(special_words)\n",
    "vocab_size = n_words + n_special_words"
   ]
  },
  {
   "cell_type": "code",
   "execution_count": 5,
   "id": "3ac0665c-c853-4ce3-8886-b9486b83b277",
   "metadata": {},
   "outputs": [],
   "source": [
    "sentences = torch.cat([\n",
    "    torch.arange(n_special_words, vocab_size, 1).repeat(1000, 1), \n",
    "    torch.flip(torch.arange(n_special_words, vocab_size, 1).repeat(1000, 1), dims=(-1,))\n",
    "])\n",
    "sentences = torch.cat([\n",
    "        torch.tensor(special_words[\"start\"]).repeat(len(sentences), 1), \n",
    "        sentences, \n",
    "        torch.tensor(special_words[\"end\"]).repeat(len(sentences), 1)\n",
    "], dim=-1)"
   ]
  },
  {
   "cell_type": "code",
   "execution_count": 6,
   "id": "49f2dbee-30a8-45a6-8212-97299915e84f",
   "metadata": {},
   "outputs": [],
   "source": [
    "dataset = NextWordDataset(sentences)\n",
    "dataloader = DataLoader(dataset, batch_size=256, shuffle=True)"
   ]
  },
  {
   "cell_type": "markdown",
   "id": "167b271f-f90f-4d8c-abf7-34172937b477",
   "metadata": {},
   "source": [
    "## Learning\n",
    "\n",
    "Simple supervised learning using $x$ and $y$ from datasets"
   ]
  },
  {
   "cell_type": "code",
   "execution_count": 7,
   "id": "3f2d62eb-1e98-44d7-8bad-996918452c1d",
   "metadata": {},
   "outputs": [],
   "source": [
    "embedding_dim, hidden_dim, out_dim = 2, 4, vocab_size"
   ]
  },
  {
   "cell_type": "code",
   "execution_count": 8,
   "id": "f9030904-5ed3-48df-aaf7-60662de0a5e0",
   "metadata": {},
   "outputs": [],
   "source": [
    "model = LSTMSentenceClassifier(vocab_size, embedding_dim, hidden_dim, out_dim)"
   ]
  },
  {
   "cell_type": "code",
   "execution_count": 9,
   "id": "9f3274b7-a94b-4313-b645-70e03f217def",
   "metadata": {},
   "outputs": [],
   "source": [
    "optimizer = optim.Adam(model.parameters(), lr=0.005)"
   ]
  },
  {
   "cell_type": "code",
   "execution_count": 10,
   "id": "3f0c6bb8-f059-4ffd-b181-01433f6461a0",
   "metadata": {},
   "outputs": [],
   "source": [
    "criterion = nn.CrossEntropyLoss()"
   ]
  },
  {
   "cell_type": "code",
   "execution_count": 11,
   "id": "c702cb94-a281-41c5-8a9b-be200da5cb92",
   "metadata": {},
   "outputs": [],
   "source": [
    "epochs = 2000"
   ]
  },
  {
   "cell_type": "code",
   "execution_count": 12,
   "id": "6087fa02-24e7-49eb-9d4a-b9363445adeb",
   "metadata": {
    "tags": []
   },
   "outputs": [
    {
     "name": "stderr",
     "output_type": "stream",
     "text": [
      "100%|██████████| 2000/2000 [01:33<00:00, 21.41it/s]\n"
     ]
    }
   ],
   "source": [
    "losses = []\n",
    "for _ in tqdm(range(epochs)):\n",
    "    epoch_losses = []\n",
    "    optimizer.zero_grad()\n",
    "    for x, y_true in dataloader:\n",
    "        y_pred = model(x)\n",
    "        loss = criterion(\n",
    "            ein.rearrange(y_pred, 'b t p -> (b t) p'), \n",
    "            ein.rearrange(y_true, 'b t -> (b t)')\n",
    "        )\n",
    "        epoch_losses.append(loss.item())\n",
    "        loss.backward()\n",
    "    optimizer.step()\n",
    "    losses.append(np.mean(epoch_losses))"
   ]
  },
  {
   "cell_type": "markdown",
   "id": "c4e27248-0829-4a42-afe8-47f4c60160e9",
   "metadata": {},
   "source": [
    "## Results"
   ]
  },
  {
   "cell_type": "code",
   "execution_count": 13,
   "id": "23f6afa0-a4c4-4396-bcec-e123b0994f42",
   "metadata": {
    "tags": []
   },
   "outputs": [
    {
     "data": {
      "text/plain": [
       "Text(0, 0.5, 'loss')"
      ]
     },
     "execution_count": 13,
     "metadata": {},
     "output_type": "execute_result"
    },
    {
     "data": {
      "image/png": "[encoded data removed]",
      "text/plain": [
       "<Figure size 720x495 with 1 Axes>"
      ]
     },
     "metadata": {},
     "output_type": "display_data"
    }
   ],
   "source": [
    "plt.plot(losses)\n",
    "plt.title(\"Loss curve\")\n",
    "plt.xlabel(\"epoch\")\n",
    "plt.ylabel(\"loss\")"
   ]
  },
  {
   "cell_type": "markdown",
   "id": "5a0cacbb-6924-438b-bf3a-866fb3c860cb",
   "metadata": {},
   "source": [
    "##### Generation"
   ]
  },
  {
   "cell_type": "code",
   "execution_count": 14,
   "id": "a2a9e7b7-f859-4a3b-85c6-6bbd39b54c3c",
   "metadata": {},
   "outputs": [],
   "source": [
    "def generate_sentence(model, start_word, end_word, max_length=100):\n",
    "    next_word = start_word\n",
    "    x = torch.tensor([next_word]).unsqueeze(0)\n",
    "    i = 0\n",
    "    while next_word != end_word and i < max_length:\n",
    "        probs = model(x)[0][-1]\n",
    "        next_word = Categorical(probs).sample()\n",
    "        x = torch.cat([x, torch.tensor([next_word]).unsqueeze(-1)], dim=-1)\n",
    "        i += 1\n",
    "    return x[0]"
   ]
  },
  {
   "cell_type": "code",
   "execution_count": 15,
   "id": "1546eb64-10f5-49b8-a0e7-210f01d43005",
   "metadata": {},
   "outputs": [
    {
     "data": {
      "text/plain": [
       "[[0, 2, 3, 4, 5, 6, 1],\n",
       " [0, 2, 3, 4, 5, 6, 1],\n",
       " [0, 2, 3, 4, 5, 6, 1],\n",
       " [0, 2, 3, 4, 5, 6, 1],\n",
       " [0, 2, 3, 4, 5, 6, 1],\n",
       " [0, 2, 3, 4, 5, 6, 1],\n",
       " [0, 2, 3, 4, 5, 6, 1],\n",
       " [0, 2, 3, 4, 5, 6, 1],\n",
       " [0, 2, 3, 4, 5, 6, 1],\n",
       " [0, 2, 3, 4, 5, 6, 1],\n",
       " [0, 2, 3, 4, 5, 6, 1],\n",
       " [0, 2, 3, 6, 5, 4, 1],\n",
       " [0, 2, 3, 4, 5, 6, 1],\n",
       " [0, 2, 3, 4, 5, 6, 1],\n",
       " [0, 2, 3, 4, 5, 6, 1],\n",
       " [0, 2, 3, 4, 5, 6, 1],\n",
       " [0, 2, 3, 4, 5, 6, 1],\n",
       " [0, 2, 3, 4, 5, 6, 1],\n",
       " [0, 2, 3, 4, 5, 6, 1],\n",
       " [0, 2, 3, 4, 5, 6, 1]]"
      ]
     },
     "execution_count": 15,
     "metadata": {},
     "output_type": "execute_result"
    }
   ],
   "source": [
    "[generate_sentence(model, special_words[\"start\"], special_words[\"end\"]).tolist() for _ in range(20)]"
   ]
  }
 ],
 "metadata": {
  "kernelspec": {
   "display_name": "Python 3 (ipykernel)",
   "language": "python",
   "name": "python3"
  },
  "language_info": {
   "codemirror_mode": {
    "name": "ipython",
    "version": 3
   },
   "file_extension": ".py",
   "mimetype": "text/x-python",
   "name": "python",
   "nbconvert_exporter": "python",
   "pygments_lexer": "ipython3",
   "version": "3.9.7"
  }
 },
 "nbformat": 4,
 "nbformat_minor": 5
}
