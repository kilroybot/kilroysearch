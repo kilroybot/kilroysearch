{
 "cells": [
  {
   "cell_type": "code",
   "execution_count": 1,
   "id": "3cae58c1-18be-4625-8ba7-86d15cab4693",
   "metadata": {},
   "outputs": [],
   "source": [
    "import numpy as np\n",
    "import einops as ein\n",
    "import torch\n",
    "import torch.nn as nn\n",
    "import torch.nn.functional as F\n",
    "import torch.optim as optim\n",
    "from torch.distributions.categorical import Categorical\n",
    "from kilroyplot.plot import plt\n",
    "from tqdm import tqdm"
   ]
  },
  {
   "cell_type": "code",
   "execution_count": 2,
   "id": "1613db73-00fe-4ea3-8e91-c5cde94d739d",
   "metadata": {},
   "outputs": [],
   "source": [
    "evaluate = lambda x: -len(x)"
   ]
  },
  {
   "cell_type": "code",
   "execution_count": 3,
   "id": "ae2a9606-4d7e-41d4-8ba2-9b78c3ce9b2c",
   "metadata": {},
   "outputs": [],
   "source": [
    "class Actor(nn.Module):\n",
    "    def __init__(self, vocab_size, embedding_dim, hidden_dim, out_dim):\n",
    "        super().__init__()\n",
    "        self.embedding = nn.Embedding(vocab_size, embedding_dim)\n",
    "        self.lstm = nn.LSTM(embedding_dim, hidden_dim, batch_first=True)\n",
    "        self.linear = nn.Linear(hidden_dim, out_dim)\n",
    "        \n",
    "    def forward(self, x):\n",
    "        x = self.embedding(x)\n",
    "        out, _ = self.lstm(x)\n",
    "        y = self.linear(out)\n",
    "        return F.softmax(y, dim=-1)"
   ]
  },
  {
   "cell_type": "code",
   "execution_count": 4,
   "id": "32d27f35-22d5-4f1f-8485-49a1749635b1",
   "metadata": {},
   "outputs": [],
   "source": [
    "class Critic(nn.Module):\n",
    "    def __init__(self, vocab_size, embedding_dim, hidden_dim):\n",
    "        super().__init__()\n",
    "        self.embedding = nn.Embedding(vocab_size, embedding_dim)\n",
    "        self.lstm = nn.LSTM(embedding_dim, hidden_dim, batch_first=True)\n",
    "        self.linear = nn.Linear(hidden_dim, 1)\n",
    "\n",
    "    def forward(self, x):\n",
    "        x = self.embedding(x)\n",
    "        _, (ht, _) = self.lstm(x)\n",
    "        return self.linear(ht[-1])"
   ]
  },
  {
   "cell_type": "code",
   "execution_count": 5,
   "id": "e1f1232d-429d-47d5-9b11-334f1c57c4ad",
   "metadata": {},
   "outputs": [],
   "source": [
    "class Generator:\n",
    "    def __init__(self, model, start_word, end_word, max_length=10):\n",
    "        self.model = model\n",
    "        self.start_word = start_word\n",
    "        self.end_word = end_word\n",
    "        self.max_length = max_length\n",
    "        \n",
    "    def generate(self):\n",
    "        next_word = self.start_word\n",
    "        x = torch.tensor([next_word]).unsqueeze(0)\n",
    "        i = 0\n",
    "        while next_word != self.end_word and i < self.max_length:\n",
    "            probs = self.model(x)[0][-1]\n",
    "            next_word = Categorical(probs).sample()\n",
    "            x = torch.cat([x, torch.tensor([next_word]).unsqueeze(-1)], dim=-1)\n",
    "            i += 1\n",
    "        return x[0]"
   ]
  },
  {
   "cell_type": "code",
   "execution_count": 6,
   "id": "a9e93eb0-a0a5-4dd6-ab23-9fe0d3c47726",
   "metadata": {},
   "outputs": [],
   "source": [
    "start_word, stop_word = 0, 1\n",
    "vocab_size = 5\n",
    "embedding_dim, hidden_dim, out_dim = 16, 16, vocab_size"
   ]
  },
  {
   "cell_type": "code",
   "execution_count": 7,
   "id": "38255efc-8e3f-4441-8a7a-30cda7254205",
   "metadata": {},
   "outputs": [],
   "source": [
    "actor = Actor(vocab_size, embedding_dim, hidden_dim, out_dim)\n",
    "critic = Critic(vocab_size, embedding_dim, hidden_dim)"
   ]
  },
  {
   "cell_type": "code",
   "execution_count": 8,
   "id": "09948463-871a-4446-999e-f5bd4f616f81",
   "metadata": {},
   "outputs": [],
   "source": [
    "generator = Generator(actor, start_word, stop_word)"
   ]
  },
  {
   "cell_type": "code",
   "execution_count": 9,
   "id": "5426fa5d-cc01-4cf0-9c56-a4ac1bd2d8b8",
   "metadata": {},
   "outputs": [],
   "source": [
    "actor_optimizer = optim.Adam(actor.parameters(), lr=0.001)\n",
    "critic_optimizer = optim.Adam(critic.parameters(), lr=0.001)"
   ]
  },
  {
   "cell_type": "code",
   "execution_count": 10,
   "id": "26903bea-8d57-4b08-a5e2-25af4748d075",
   "metadata": {},
   "outputs": [],
   "source": [
    "criterion = nn.MSELoss()"
   ]
  },
  {
   "cell_type": "code",
   "execution_count": 11,
   "id": "96bba287-9aef-4cfc-9922-8f78e1b7505e",
   "metadata": {},
   "outputs": [],
   "source": [
    "epochs = 100\n",
    "actor_iters = 1000\n",
    "critic_iters = 100"
   ]
  },
  {
   "cell_type": "code",
   "execution_count": 12,
   "id": "40469a5b-ad22-4d3d-b534-c9b28e9d5329",
   "metadata": {
    "tags": []
   },
   "outputs": [
    {
     "name": "stderr",
     "output_type": "stream",
     "text": [
      "100%|██████████| 100/100 [15:01<00:00,  9.01s/it]\n"
     ]
    }
   ],
   "source": [
    "critic_losses = []\n",
    "actor_rewards = []\n",
    "\n",
    "for _ in tqdm(range(epochs)):\n",
    "    critic_epoch_losses = []\n",
    "    critic_optimizer.zero_grad()\n",
    "    for _ in range(critic_iters):\n",
    "        sentence = generator.generate().unsqueeze(0)\n",
    "        pred_reward = critic(sentence)\n",
    "        real_reward = torch.tensor([[evaluate(s.tolist())] for s in sentence]).float()\n",
    "        loss = criterion(pred_reward, real_reward)\n",
    "        loss.backward()\n",
    "        critic_epoch_losses.append(loss.item())\n",
    "    critic_optimizer.step()\n",
    "    critic_losses.append(np.mean(critic_epoch_losses))\n",
    "    \n",
    "    actor_epoch_rewards = []\n",
    "    actor_optimizer.zero_grad()\n",
    "    for _ in range(actor_iters):\n",
    "        sentence = generator.generate().unsqueeze(0)\n",
    "        reward = critic(sentence)\n",
    "        preds = actor(sentence)\n",
    "        probs = torch.gather(preds, -1, sentence.unsqueeze(-1)).squeeze(-1)\n",
    "        loss = -(reward * torch.log(probs).mean())\n",
    "        loss.backward()\n",
    "        actor_epoch_rewards.append(reward.item())\n",
    "    actor_optimizer.step()\n",
    "    actor_rewards.append(np.mean(actor_epoch_rewards))"
   ]
  },
  {
   "cell_type": "code",
   "execution_count": 13,
   "id": "6a9be49d-1f5b-4a6c-8982-e976eac3507b",
   "metadata": {},
   "outputs": [
    {
     "data": {
      "text/plain": [
       "[<matplotlib.lines.Line2D at 0x7f0da9016a00>]"
      ]
     },
     "execution_count": 13,
     "metadata": {},
     "output_type": "execute_result"
    },
    {
     "data": {
      "image/png": "[encoded data removed]",
      "text/plain": [
       "<Figure size 1350x450 with 2 Axes>"
      ]
     },
     "metadata": {},
     "output_type": "display_data"
    }
   ],
   "source": [
    "_, axs = plt.subplots(1, 2, figsize=(15, 5))\n",
    "axs[0].plot(critic_losses)\n",
    "axs[1].plot(actor_rewards)"
   ]
  },
  {
   "cell_type": "code",
   "execution_count": 14,
   "id": "f7c6cc5c-3008-4693-a8c9-0ffc524327dd",
   "metadata": {},
   "outputs": [
    {
     "name": "stdout",
     "output_type": "stream",
     "text": [
      "Sentence: [0, 0, 0, 0, 0, 0, 0, 0, 0, 0, 0], critic score, 3.650, real score: 10.000\n",
      "Sentence: [0, 4, 4, 4, 4, 4, 4, 2, 1], critic score, 3.529, real score: 10.000\n",
      "Sentence: [0, 0, 3, 4, 0, 4, 0, 1], critic score, 3.567, real score: 10.000\n",
      "Sentence: [0, 0, 4, 0, 4, 4, 4, 0, 0, 4, 1], critic score, 3.559, real score: 10.000\n",
      "Sentence: [0, 0, 0, 0, 4, 4, 3, 1], critic score, 3.542, real score: 10.000\n",
      "Sentence: [0, 0, 1], critic score, 3.192, real score: 10.000\n",
      "Sentence: [0, 0, 0, 2, 0, 0, 0, 0, 0, 0, 0], critic score, 3.650, real score: 10.000\n",
      "Sentence: [0, 0, 0, 0, 0, 0, 0, 0, 0, 0, 0], critic score, 3.650, real score: 10.000\n",
      "Sentence: [0, 0, 0, 0, 0, 0, 0, 0, 0, 0, 0], critic score, 3.650, real score: 10.000\n",
      "Sentence: [0, 3, 3, 3, 0, 0, 0, 0, 0, 0, 0], critic score, 3.650, real score: 10.000\n",
      "Sentence: [0, 0, 0, 0, 2, 0, 0, 0, 0, 0, 0], critic score, 3.650, real score: 10.000\n",
      "Sentence: [0, 0, 0, 0, 0, 0, 0, 0, 0, 0, 0], critic score, 3.650, real score: 10.000\n",
      "Sentence: [0, 1], critic score, 2.516, real score: 10.000\n",
      "Sentence: [0, 3, 4, 4, 4, 4, 4, 4, 4, 4, 4], critic score, 3.431, real score: 10.000\n",
      "Sentence: [0, 4, 4, 4, 4, 4, 3, 3, 4, 4, 4], critic score, 3.433, real score: 10.000\n",
      "Sentence: [0, 0, 0, 0, 0, 2, 0, 0, 0, 0, 1], critic score, 3.574, real score: 10.000\n",
      "Sentence: [0, 0, 0, 0, 3, 3, 3, 3, 3, 3, 3], critic score, 3.420, real score: 10.000\n",
      "Sentence: [0, 0, 2, 1], critic score, 3.350, real score: 10.000\n",
      "Sentence: [0, 4, 0, 0, 0, 0, 0, 0, 0, 0, 0], critic score, 3.650, real score: 10.000\n",
      "Sentence: [0, 0, 1], critic score, 3.192, real score: 10.000\n"
     ]
    }
   ],
   "source": [
    "for sentence in [generator.generate().tolist() for _ in range(20)]:\n",
    "    print(f\"Sentence: {sentence}, critic score, {critic(torch.tensor([sentence])).item():.3f}, real score: {evaluate(sentence):.3f}\")"
   ]
  },
  {
   "cell_type": "code",
   "execution_count": null,
   "id": "0322b681-d887-44d9-af1a-ee93e5d4e2fc",
   "metadata": {},
   "outputs": [],
   "source": []
  }
 ],
 "metadata": {
  "kernelspec": {
   "display_name": "Python 3 (ipykernel)",
   "language": "python",
   "name": "python3"
  },
  "language_info": {
   "codemirror_mode": {
    "name": "ipython",
    "version": 3
   },
   "file_extension": ".py",
   "mimetype": "text/x-python",
   "name": "python",
   "nbconvert_exporter": "python",
   "pygments_lexer": "ipython3",
   "version": "3.9.7"
  }
 },
 "nbformat": 4,
 "nbformat_minor": 5
}
